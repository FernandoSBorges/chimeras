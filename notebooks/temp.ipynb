{
 "cells": [
  {
   "attachments": {},
   "cell_type": "markdown",
   "metadata": {},
   "source": [
    "# temporary \n",
    "\n",
    "Created to run some python codes to analyze simulation results."
   ]
  },
  {
   "cell_type": "code",
   "execution_count": 10,
   "metadata": {},
   "outputs": [],
   "source": [
    "import json\n",
    "import numpy as np\n",
    "import pandas as pd\n",
    "\n",
    "from matplotlib import pyplot as plt\n",
    "import seaborn as sns\n",
    "\n",
    "sns.set_context('paper')"
   ]
  },
  {
   "cell_type": "code",
   "execution_count": 11,
   "metadata": {},
   "outputs": [],
   "source": [
    "cells = ['sPY']#, 'sIN', 'sPYbr', 'sPYb', 'sPYr']"
   ]
  },
  {
   "cell_type": "code",
   "execution_count": 12,
   "metadata": {},
   "outputs": [],
   "source": [
    "import json\n",
    "f = open(f'../data/sPY/Pospischil2008_RS_sPY_data.json')\n",
    "data = json.load(f)\n",
    "\n",
    "f.close()"
   ]
  },
  {
   "cell_type": "code",
   "execution_count": 19,
   "metadata": {},
   "outputs": [
    {
     "data": {
      "text/plain": [
       "{'sIN_rule': {'conds': {'cellModel': 'HH_full', 'cellType': 'sIN'},\n",
       "  'globals': {},\n",
       "  'secLists': {'SectionList[0]': [], 'SectionList[1]': []},\n",
       "  'secs': {'soma_0': {'geom': {'L': 67.0,\n",
       "     'Ra': 100.0,\n",
       "     'cm': 1.0,\n",
       "     'diam': 67.0,\n",
       "     'nseg': 1},\n",
       "    'ions': {'k': {'e': -100.0, 'i': 54.4, 'o': 2.5},\n",
       "     'na': {'e': 50.0, 'i': 10.0, 'o': 140.0}},\n",
       "    'mechs': {'hh2': {'gkbar': 0.01, 'gnabar': 0.05, 'vtraub': -55.0},\n",
       "     'pas': {'e': -70.0, 'g': 0.00015}},\n",
       "    'topol': {}}}},\n",
       " 'sPY_rule': {'conds': {'cellModel': 'HH_full', 'cellType': 'sPY'},\n",
       "  'globals': {'taumax_im': 608.0},\n",
       "  'secLists': {'SectionList[0]': [], 'SectionList[1]': []},\n",
       "  'secs': {'soma_0': {'geom': {'L': 61.4,\n",
       "     'Ra': 100.0,\n",
       "     'cm': 1.0,\n",
       "     'diam': 61.4,\n",
       "     'nseg': 1},\n",
       "    'ions': {'k': {'e': -100.0, 'i': 54.4, 'o': 2.5},\n",
       "     'na': {'e': 50.0, 'i': 10.0, 'o': 140.0}},\n",
       "    'mechs': {'hh2': {'gkbar': 0.006, 'gnabar': 0.056, 'vtraub': -56.2},\n",
       "     'im': {'gkbar': 7.5e-05},\n",
       "     'pas': {'e': -70.3, 'g': 2.05e-05}},\n",
       "    'topol': {}}}}}"
      ]
     },
     "execution_count": 19,
     "metadata": {},
     "output_type": "execute_result"
    }
   ],
   "source": [
    "data['net']['params']['cellParams']"
   ]
  },
  {
   "cell_type": "code",
   "execution_count": 20,
   "metadata": {},
   "outputs": [
    {
     "data": {
      "text/plain": [
       "{}"
      ]
     },
     "execution_count": 20,
     "metadata": {},
     "output_type": "execute_result"
    }
   ],
   "source": [
    "data['net']['params']['subConnParams']"
   ]
  },
  {
   "cell_type": "code",
   "execution_count": 24,
   "metadata": {},
   "outputs": [
    {
     "data": {
      "text/plain": [
       "<AxesSubplot:>"
      ]
     },
     "execution_count": 24,
     "metadata": {},
     "output_type": "execute_result"
    },
    {
     "data": {
      "image/png": "[encoded data removed]",
      "text/plain": [
       "<Figure size 640x480 with 1 Axes>"
      ]
     },
     "metadata": {},
     "output_type": "display_data"
    }
   ],
   "source": [
    "r = 1\n",
    "center = (50, 50)\n",
    "theta = np.linspace(0, 2*np.pi, 200)\n",
    "x = center[0] + r*np.cos(theta)\n",
    "y = center[1] + r*np.sin(theta)\n",
    "sns.scatterplot(x=x, y=y)"
   ]
  },
  {
   "cell_type": "code",
   "execution_count": null,
   "metadata": {},
   "outputs": [],
   "source": []
  }
 ],
 "metadata": {
  "kernelspec": {
   "display_name": ".venv",
   "language": "python",
   "name": "python3"
  },
  "language_info": {
   "codemirror_mode": {
    "name": "ipython",
    "version": 3
   },
   "file_extension": ".py",
   "mimetype": "text/x-python",
   "name": "python",
   "nbconvert_exporter": "python",
   "pygments_lexer": "ipython3",
   "version": "3.10.6"
  },
  "orig_nbformat": 4
 },
 "nbformat": 4,
 "nbformat_minor": 2
}
