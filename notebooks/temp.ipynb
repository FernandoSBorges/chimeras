{
 "cells": [
  {
   "attachments": {},
   "cell_type": "markdown",
   "metadata": {},
   "source": [
    "# Temp notebook"
   ]
  },
  {
   "cell_type": "code",
   "execution_count": 7,
   "metadata": {},
   "outputs": [
    {
     "name": "stdout",
     "output_type": "stream",
     "text": [
      "python3 batch.py 3 1 0.00060 [0.72  0.731 0.742 0.753 0.764]\n",
      "python3 batch.py 3 2 0.00060 [0.776 0.787 0.798 0.809 0.82 ]\n",
      "python3 batch.py 3 3 0.00064 [0.72  0.731 0.742 0.753 0.764]\n",
      "python3 batch.py 3 4 0.00064 [0.776 0.787 0.798 0.809 0.82 ]\n",
      "python3 batch.py 3 5 0.00069 [0.72  0.731 0.742 0.753 0.764]\n",
      "python3 batch.py 3 6 0.00069 [0.776 0.787 0.798 0.809 0.82 ]\n",
      "python3 batch.py 3 7 0.00073 [0.72  0.731 0.742 0.753 0.764]\n",
      "python3 batch.py 3 8 0.00073 [0.776 0.787 0.798 0.809 0.82 ]\n",
      "python3 batch.py 3 9 0.00078 [0.72  0.731 0.742 0.753 0.764]\n",
      "python3 batch.py 3 10 0.00078 [0.776 0.787 0.798 0.809 0.82 ]\n",
      "python3 batch.py 3 11 0.00082 [0.72  0.731 0.742 0.753 0.764]\n",
      "python3 batch.py 3 12 0.00082 [0.776 0.787 0.798 0.809 0.82 ]\n",
      "python3 batch.py 3 13 0.00087 [0.72  0.731 0.742 0.753 0.764]\n",
      "python3 batch.py 3 14 0.00087 [0.776 0.787 0.798 0.809 0.82 ]\n",
      "python3 batch.py 3 15 0.00091 [0.72  0.731 0.742 0.753 0.764]\n",
      "python3 batch.py 3 16 0.00091 [0.776 0.787 0.798 0.809 0.82 ]\n",
      "python3 batch.py 3 17 0.00096 [0.72  0.731 0.742 0.753 0.764]\n",
      "python3 batch.py 3 18 0.00096 [0.776 0.787 0.798 0.809 0.82 ]\n",
      "python3 batch.py 3 19 0.00100 [0.72  0.731 0.742 0.753 0.764]\n",
      "python3 batch.py 3 20 0.00100 [0.776 0.787 0.798 0.809 0.82 ]\n"
     ]
    }
   ],
   "source": [
    "import numpy as np\n",
    "# coupling of elements\n",
    "gex = np.round(np.linspace(6,10,10) * 1e-4, 6)\n",
    "# external current\n",
    "i_ext = np.round(np.linspace(0.72, 0.82, 10), 3)\n",
    "currents = np.array_split(i_ext, 2)\n",
    "batch = 1\n",
    "for g in gex:\n",
    "    for current in currents:\n",
    "        print(f'python3 batch.py 3 {batch} {g:.5f} ' + f'{current}')\n",
    "        batch+=1"
   ]
  },
  {
   "cell_type": "code",
   "execution_count": 1,
   "metadata": {},
   "outputs": [
    {
     "name": "stdout",
     "output_type": "stream",
     "text": [
      "python3 batch.py 9 1 0.00000010 [0.7   0.718 0.736]\n",
      "python3 batch.py 9 2 0.00000010 [0.755 0.773 0.791]\n",
      "python3 batch.py 9 3 0.00000010 [0.809 0.827 0.845]\n",
      "python3 batch.py 9 4 0.00000010 [0.864 0.882 0.9  ]\n",
      "python3 batch.py 9 5 0.00000027 [0.7   0.718 0.736]\n",
      "python3 batch.py 9 6 0.00000027 [0.755 0.773 0.791]\n",
      "python3 batch.py 9 7 0.00000027 [0.809 0.827 0.845]\n",
      "python3 batch.py 9 8 0.00000027 [0.864 0.882 0.9  ]\n",
      "python3 batch.py 9 9 0.00000045 [0.7   0.718 0.736]\n",
      "python3 batch.py 9 10 0.00000045 [0.755 0.773 0.791]\n",
      "python3 batch.py 9 11 0.00000045 [0.809 0.827 0.845]\n",
      "python3 batch.py 9 12 0.00000045 [0.864 0.882 0.9  ]\n",
      "python3 batch.py 9 13 0.00000062 [0.7   0.718 0.736]\n",
      "python3 batch.py 9 14 0.00000062 [0.755 0.773 0.791]\n",
      "python3 batch.py 9 15 0.00000062 [0.809 0.827 0.845]\n",
      "python3 batch.py 9 16 0.00000062 [0.864 0.882 0.9  ]\n",
      "python3 batch.py 9 17 0.00000079 [0.7   0.718 0.736]\n",
      "python3 batch.py 9 18 0.00000079 [0.755 0.773 0.791]\n",
      "python3 batch.py 9 19 0.00000079 [0.809 0.827 0.845]\n",
      "python3 batch.py 9 20 0.00000079 [0.864 0.882 0.9  ]\n",
      "python3 batch.py 9 21 0.00000096 [0.7   0.718 0.736]\n",
      "python3 batch.py 9 22 0.00000096 [0.755 0.773 0.791]\n",
      "python3 batch.py 9 23 0.00000096 [0.809 0.827 0.845]\n",
      "python3 batch.py 9 24 0.00000096 [0.864 0.882 0.9  ]\n",
      "python3 batch.py 9 25 0.00000114 [0.7   0.718 0.736]\n",
      "python3 batch.py 9 26 0.00000114 [0.755 0.773 0.791]\n",
      "python3 batch.py 9 27 0.00000114 [0.809 0.827 0.845]\n",
      "python3 batch.py 9 28 0.00000114 [0.864 0.882 0.9  ]\n",
      "python3 batch.py 9 29 0.00000131 [0.7   0.718 0.736]\n",
      "python3 batch.py 9 30 0.00000131 [0.755 0.773 0.791]\n",
      "python3 batch.py 9 31 0.00000131 [0.809 0.827 0.845]\n",
      "python3 batch.py 9 32 0.00000131 [0.864 0.882 0.9  ]\n",
      "python3 batch.py 9 33 0.00000148 [0.7   0.718 0.736]\n",
      "python3 batch.py 9 34 0.00000148 [0.755 0.773 0.791]\n",
      "python3 batch.py 9 35 0.00000148 [0.809 0.827 0.845]\n",
      "python3 batch.py 9 36 0.00000148 [0.864 0.882 0.9  ]\n",
      "python3 batch.py 9 37 0.00000165 [0.7   0.718 0.736]\n",
      "python3 batch.py 9 38 0.00000165 [0.755 0.773 0.791]\n",
      "python3 batch.py 9 39 0.00000165 [0.809 0.827 0.845]\n",
      "python3 batch.py 9 40 0.00000165 [0.864 0.882 0.9  ]\n",
      "python3 batch.py 9 41 0.00000183 [0.7   0.718 0.736]\n",
      "python3 batch.py 9 42 0.00000183 [0.755 0.773 0.791]\n",
      "python3 batch.py 9 43 0.00000183 [0.809 0.827 0.845]\n",
      "python3 batch.py 9 44 0.00000183 [0.864 0.882 0.9  ]\n",
      "python3 batch.py 9 45 0.00000200 [0.7   0.718 0.736]\n",
      "python3 batch.py 9 46 0.00000200 [0.755 0.773 0.791]\n",
      "python3 batch.py 9 47 0.00000200 [0.809 0.827 0.845]\n",
      "python3 batch.py 9 48 0.00000200 [0.864 0.882 0.9  ]\n"
     ]
    }
   ],
   "source": [
    "import numpy as np\n",
    "# coupling of elements\n",
    "gex = np.round(np.linspace(1, 20, 12) * 1e-7, 8)\n",
    "# external current\n",
    "i_ext = np.round(np.linspace(0.7, 0.9, 12), 3)\n",
    "currents = np.array_split(i_ext, 4)\n",
    "\n",
    "batch = 1\n",
    "v = 9\n",
    "k_max = 12\n",
    "\n",
    "for g in gex:\n",
    "    for conn in currents:\n",
    "        print(f'python3 batch.py {v} {batch} {g:.8f} ' + f'{conn}')\n",
    "        # for c in range(len(current)):\n",
    "        #     os.system(f'python3 preprocessing.py {v} {batch} {c} {k_max}')\n",
    "        #     os.system(f'python3 plotRaster.py {v} {batch} {c}')\n",
    "        #     os.system(f'python3 plotPhase.py {v} {batch} {c}')\n",
    "        #     os.system(f'python3 plotHistBoxPlot.py {v} {batch} {c}')\n",
    "        #     os.system(f'python3 plotGOP.py {v} {batch} {c}')\n",
    "        #     os.system(f'python3 plotLOP.py {v} {batch} {c}')\n",
    "        #     os.system(f'python3 plotMeanLOPWindow.py {v} {batch} {c}')\n",
    "        batch+=1\n"
   ]
  },
  {
   "cell_type": "code",
   "execution_count": null,
   "metadata": {},
   "outputs": [],
   "source": []
  }
 ],
 "metadata": {
  "kernelspec": {
   "display_name": ".venv",
   "language": "python",
   "name": "python3"
  },
  "language_info": {
   "codemirror_mode": {
    "name": "ipython",
    "version": 3
   },
   "file_extension": ".py",
   "mimetype": "text/x-python",
   "name": "python",
   "nbconvert_exporter": "python",
   "pygments_lexer": "ipython3",
   "version": "3.10.12"
  },
  "orig_nbformat": 4
 },
 "nbformat": 4,
 "nbformat_minor": 2
}
