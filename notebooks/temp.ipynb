{
 "cells": [
  {
   "attachments": {},
   "cell_type": "markdown",
   "metadata": {},
   "source": [
    "# Temp notebook"
   ]
  },
  {
   "cell_type": "code",
   "execution_count": 1,
   "metadata": {},
   "outputs": [],
   "source": [
    "import numpy as np"
   ]
  },
  {
   "cell_type": "code",
   "execution_count": 9,
   "metadata": {},
   "outputs": [
    {
     "name": "stdout",
     "output_type": "stream",
     "text": [
      "python3 batch.py 3 1 0.00001 [0.2   0.267]\n",
      "python3 batch.py 3 2 0.00001 [0.333 0.4  ]\n",
      "python3 batch.py 3 3 0.00001 [0.467 0.533]\n",
      "python3 batch.py 3 4 0.00001 [0.6   0.667]\n",
      "python3 batch.py 3 5 0.00001 [0.733 0.8  ]\n",
      "python3 batch.py 3 6 0.00002 [0.2   0.267]\n",
      "python3 batch.py 3 7 0.00002 [0.333 0.4  ]\n",
      "python3 batch.py 3 8 0.00002 [0.467 0.533]\n",
      "python3 batch.py 3 9 0.00002 [0.6   0.667]\n",
      "python3 batch.py 3 10 0.00002 [0.733 0.8  ]\n",
      "python3 batch.py 3 11 0.00003 [0.2   0.267]\n",
      "python3 batch.py 3 12 0.00003 [0.333 0.4  ]\n",
      "python3 batch.py 3 13 0.00003 [0.467 0.533]\n",
      "python3 batch.py 3 14 0.00003 [0.6   0.667]\n",
      "python3 batch.py 3 15 0.00003 [0.733 0.8  ]\n",
      "python3 batch.py 3 16 0.00004 [0.2   0.267]\n",
      "python3 batch.py 3 17 0.00004 [0.333 0.4  ]\n",
      "python3 batch.py 3 18 0.00004 [0.467 0.533]\n",
      "python3 batch.py 3 19 0.00004 [0.6   0.667]\n",
      "python3 batch.py 3 20 0.00004 [0.733 0.8  ]\n",
      "python3 batch.py 3 21 0.00005 [0.2   0.267]\n",
      "python3 batch.py 3 22 0.00005 [0.333 0.4  ]\n",
      "python3 batch.py 3 23 0.00005 [0.467 0.533]\n",
      "python3 batch.py 3 24 0.00005 [0.6   0.667]\n",
      "python3 batch.py 3 25 0.00005 [0.733 0.8  ]\n",
      "python3 batch.py 3 26 0.00006 [0.2   0.267]\n",
      "python3 batch.py 3 27 0.00006 [0.333 0.4  ]\n",
      "python3 batch.py 3 28 0.00006 [0.467 0.533]\n",
      "python3 batch.py 3 29 0.00006 [0.6   0.667]\n",
      "python3 batch.py 3 30 0.00006 [0.733 0.8  ]\n",
      "python3 batch.py 3 31 0.00007 [0.2   0.267]\n",
      "python3 batch.py 3 32 0.00007 [0.333 0.4  ]\n",
      "python3 batch.py 3 33 0.00007 [0.467 0.533]\n",
      "python3 batch.py 3 34 0.00007 [0.6   0.667]\n",
      "python3 batch.py 3 35 0.00007 [0.733 0.8  ]\n",
      "python3 batch.py 3 36 0.00008 [0.2   0.267]\n",
      "python3 batch.py 3 37 0.00008 [0.333 0.4  ]\n",
      "python3 batch.py 3 38 0.00008 [0.467 0.533]\n",
      "python3 batch.py 3 39 0.00008 [0.6   0.667]\n",
      "python3 batch.py 3 40 0.00008 [0.733 0.8  ]\n",
      "python3 batch.py 3 41 0.00009 [0.2   0.267]\n",
      "python3 batch.py 3 42 0.00009 [0.333 0.4  ]\n",
      "python3 batch.py 3 43 0.00009 [0.467 0.533]\n",
      "python3 batch.py 3 44 0.00009 [0.6   0.667]\n",
      "python3 batch.py 3 45 0.00009 [0.733 0.8  ]\n",
      "python3 batch.py 3 46 0.00010 [0.2   0.267]\n",
      "python3 batch.py 3 47 0.00010 [0.333 0.4  ]\n",
      "python3 batch.py 3 48 0.00010 [0.467 0.533]\n",
      "python3 batch.py 3 49 0.00010 [0.6   0.667]\n",
      "python3 batch.py 3 50 0.00010 [0.733 0.8  ]\n"
     ]
    }
   ],
   "source": [
    "gex = np.linspace(1,10,10) * 1e-5\n",
    "\n",
    "# external current\n",
    "i_ext = np.round(np.linspace(0.2,0.8,10), 3) #np.arange(0.61,1., 0.01)\n",
    "currents = np.array_split(i_ext, len(i_ext)/2)\n",
    "\n",
    "batch = 1\n",
    "for g in gex:\n",
    "    for current in currents:\n",
    "        print(f'python3 batch.py 3 {batch} {g:.5f} ' + f'{current}')\n",
    "        batch+=1"
   ]
  },
  {
   "cell_type": "code",
   "execution_count": 6,
   "metadata": {},
   "outputs": [
    {
     "name": "stdout",
     "output_type": "stream",
     "text": [
      "python3 batch.py 5 58 0.00010 [0.72 0.82 0.92 1.02]\n",
      "python3 batch.py 5 59 0.00020 [0.72 0.82 0.92 1.02]\n",
      "python3 batch.py 5 60 0.00030 [0.72 0.82 0.92 1.02]\n",
      "python3 batch.py 5 61 0.00040 [0.72 0.82 0.92 1.02]\n"
     ]
    }
   ],
   "source": [
    "gex = [0.0001, 0.0002, 0.0003, 0.0004]# 0.0005]\n",
    "\n",
    "# external current\n",
    "i_ext = [0.72, 0.82, 0.92, 1.02]#np.arange(0.61,1., 0.01)\n",
    "currents = np.array_split(i_ext, len(i_ext)/3)\n",
    "#currents = [0.71, 0.9, 0.94]\n",
    "\n",
    "#desyncr_spikes_period = 7  # default 7 = 1 spike every 7.143ms\n",
    "#desyncr_spikes_dur = 500 # defaut 500 = 50 ms\n",
    "#numCellsDesync = 80  # numCells to produce desyncronization\n",
    "\n",
    "for g in gex:\n",
    "    for current in currents:\n",
    "        print(f'python3 batch.py 5 {batch} {g:.5f} ' + f'{current}')\n",
    "        batch+=1"
   ]
  },
  {
   "cell_type": "code",
   "execution_count": null,
   "metadata": {},
   "outputs": [],
   "source": []
  },
  {
   "cell_type": "code",
   "execution_count": null,
   "metadata": {},
   "outputs": [],
   "source": []
  }
 ],
 "metadata": {
  "kernelspec": {
   "display_name": ".venv",
   "language": "python",
   "name": "python3"
  },
  "language_info": {
   "codemirror_mode": {
    "name": "ipython",
    "version": 3
   },
   "file_extension": ".py",
   "mimetype": "text/x-python",
   "name": "python",
   "nbconvert_exporter": "python",
   "pygments_lexer": "ipython3",
   "version": "3.10.6"
  },
  "orig_nbformat": 4
 },
 "nbformat": 4,
 "nbformat_minor": 2
}
