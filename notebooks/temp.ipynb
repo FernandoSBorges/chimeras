{
 "cells": [
  {
   "attachments": {},
   "cell_type": "markdown",
   "metadata": {},
   "source": [
    "# Temp notebook"
   ]
  },
  {
   "cell_type": "code",
   "execution_count": 2,
   "metadata": {},
   "outputs": [],
   "source": [
    "import numpy as np"
   ]
  },
  {
   "cell_type": "code",
   "execution_count": 3,
   "metadata": {},
   "outputs": [
    {
     "name": "stdout",
     "output_type": "stream",
     "text": [
      "python3 batch.py 3 1 0.00000 [0.1  0.11 0.12 0.13]\n",
      "python3 batch.py 3 2 0.00000 [0.14 0.15 0.16 0.17]\n",
      "python3 batch.py 3 3 0.00000 [0.18 0.19 0.2  0.21]\n",
      "python3 batch.py 3 4 0.00000 [0.22 0.23 0.24 0.25]\n",
      "python3 batch.py 3 5 0.00000 [0.26 0.27 0.28 0.29]\n",
      "python3 batch.py 3 6 0.00000 [0.3  0.31 0.32 0.33]\n",
      "python3 batch.py 3 7 0.00000 [0.34 0.35 0.36 0.37]\n",
      "python3 batch.py 3 8 0.00000 [0.38 0.39 0.4  0.41]\n",
      "python3 batch.py 3 9 0.00000 [0.42 0.43 0.44 0.45]\n",
      "python3 batch.py 3 10 0.00000 [0.46 0.47 0.48 0.49]\n",
      "python3 batch.py 3 11 0.00000 [0.5  0.51 0.52 0.53]\n",
      "python3 batch.py 3 12 0.00000 [0.54 0.55 0.56 0.57]\n",
      "python3 batch.py 3 13 0.00000 [0.58 0.59 0.6  0.61]\n",
      "python3 batch.py 3 14 0.00000 [0.62 0.63 0.64 0.65]\n",
      "python3 batch.py 3 15 0.00000 [0.66 0.67 0.68 0.69]\n",
      "python3 batch.py 3 16 0.00000 [0.7  0.71 0.72 0.73]\n",
      "python3 batch.py 3 17 0.00000 [0.74 0.75 0.76 0.77]\n",
      "python3 batch.py 3 18 0.00000 [0.78 0.79 0.8  0.81]\n",
      "python3 batch.py 3 19 0.00000 [0.82 0.83 0.84 0.85]\n",
      "python3 batch.py 3 20 0.00000 [0.86 0.87 0.88 0.89]\n",
      "python3 batch.py 3 21 0.00000 [0.9  0.91 0.92 0.93]\n",
      "python3 batch.py 3 22 0.00000 [0.94 0.95 0.96 0.97]\n",
      "python3 batch.py 3 23 0.00000 [0.98 0.99 1.   1.01]\n",
      "python3 batch.py 3 24 0.00000 [1.02 1.03 1.04 1.05]\n",
      "python3 batch.py 3 25 0.00000 [1.06 1.07 1.08 1.09]\n"
     ]
    }
   ],
   "source": [
    "gex = [0.0]\n",
    "i_ext = i_ext = np.arange(0.1,1.1, 0.01)\n",
    "currents = np.array_split(i_ext, 25)\n",
    "\n",
    "batch = 1\n",
    "for g in gex:\n",
    "    for current in currents:\n",
    "        print(f'python3 batch.py 3 {batch} {g:.5f} ' + f'{current}')\n",
    "        batch+=1"
   ]
  },
  {
   "cell_type": "code",
   "execution_count": 6,
   "metadata": {},
   "outputs": [
    {
     "name": "stdout",
     "output_type": "stream",
     "text": [
      "python3 batch.py 5 58 0.00010 [0.72 0.82 0.92 1.02]\n",
      "python3 batch.py 5 59 0.00020 [0.72 0.82 0.92 1.02]\n",
      "python3 batch.py 5 60 0.00030 [0.72 0.82 0.92 1.02]\n",
      "python3 batch.py 5 61 0.00040 [0.72 0.82 0.92 1.02]\n"
     ]
    }
   ],
   "source": [
    "gex = [0.0001, 0.0002, 0.0003, 0.0004]# 0.0005]\n",
    "\n",
    "# external current\n",
    "i_ext = [0.72, 0.82, 0.92, 1.02]#np.arange(0.61,1., 0.01)\n",
    "currents = np.array_split(i_ext, len(i_ext)/3)\n",
    "#currents = [0.71, 0.9, 0.94]\n",
    "\n",
    "#desyncr_spikes_period = 7  # default 7 = 1 spike every 7.143ms\n",
    "#desyncr_spikes_dur = 500 # defaut 500 = 50 ms\n",
    "#numCellsDesync = 80  # numCells to produce desyncronization\n",
    "\n",
    "for g in gex:\n",
    "    for current in currents:\n",
    "        print(f'python3 batch.py 5 {batch} {g:.5f} ' + f'{current}')\n",
    "        batch+=1"
   ]
  },
  {
   "cell_type": "code",
   "execution_count": null,
   "metadata": {},
   "outputs": [],
   "source": []
  },
  {
   "cell_type": "code",
   "execution_count": null,
   "metadata": {},
   "outputs": [],
   "source": []
  }
 ],
 "metadata": {
  "kernelspec": {
   "display_name": ".venv",
   "language": "python",
   "name": "python3"
  },
  "language_info": {
   "codemirror_mode": {
    "name": "ipython",
    "version": 3
   },
   "file_extension": ".py",
   "mimetype": "text/x-python",
   "name": "python",
   "nbconvert_exporter": "python",
   "pygments_lexer": "ipython3",
   "version": "3.10.6"
  },
  "orig_nbformat": 4
 },
 "nbformat": 4,
 "nbformat_minor": 2
}
