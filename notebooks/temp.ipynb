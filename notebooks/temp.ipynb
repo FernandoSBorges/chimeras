{
 "cells": [
  {
   "attachments": {},
   "cell_type": "markdown",
   "metadata": {},
   "source": [
    "# Temp notebook"
   ]
  },
  {
   "cell_type": "code",
   "execution_count": 7,
   "metadata": {},
   "outputs": [
    {
     "name": "stdout",
     "output_type": "stream",
     "text": [
      "python3 batch.py 3 1 0.00060 [0.72  0.731 0.742 0.753 0.764]\n",
      "python3 batch.py 3 2 0.00060 [0.776 0.787 0.798 0.809 0.82 ]\n",
      "python3 batch.py 3 3 0.00064 [0.72  0.731 0.742 0.753 0.764]\n",
      "python3 batch.py 3 4 0.00064 [0.776 0.787 0.798 0.809 0.82 ]\n",
      "python3 batch.py 3 5 0.00069 [0.72  0.731 0.742 0.753 0.764]\n",
      "python3 batch.py 3 6 0.00069 [0.776 0.787 0.798 0.809 0.82 ]\n",
      "python3 batch.py 3 7 0.00073 [0.72  0.731 0.742 0.753 0.764]\n",
      "python3 batch.py 3 8 0.00073 [0.776 0.787 0.798 0.809 0.82 ]\n",
      "python3 batch.py 3 9 0.00078 [0.72  0.731 0.742 0.753 0.764]\n",
      "python3 batch.py 3 10 0.00078 [0.776 0.787 0.798 0.809 0.82 ]\n",
      "python3 batch.py 3 11 0.00082 [0.72  0.731 0.742 0.753 0.764]\n",
      "python3 batch.py 3 12 0.00082 [0.776 0.787 0.798 0.809 0.82 ]\n",
      "python3 batch.py 3 13 0.00087 [0.72  0.731 0.742 0.753 0.764]\n",
      "python3 batch.py 3 14 0.00087 [0.776 0.787 0.798 0.809 0.82 ]\n",
      "python3 batch.py 3 15 0.00091 [0.72  0.731 0.742 0.753 0.764]\n",
      "python3 batch.py 3 16 0.00091 [0.776 0.787 0.798 0.809 0.82 ]\n",
      "python3 batch.py 3 17 0.00096 [0.72  0.731 0.742 0.753 0.764]\n",
      "python3 batch.py 3 18 0.00096 [0.776 0.787 0.798 0.809 0.82 ]\n",
      "python3 batch.py 3 19 0.00100 [0.72  0.731 0.742 0.753 0.764]\n",
      "python3 batch.py 3 20 0.00100 [0.776 0.787 0.798 0.809 0.82 ]\n"
     ]
    }
   ],
   "source": [
    "import numpy as np\n",
    "# coupling of elements\n",
    "gex = np.round(np.linspace(6,10,10) * 1e-4, 6)\n",
    "# external current\n",
    "i_ext = np.round(np.linspace(0.72, 0.82, 10), 3)\n",
    "currents = np.array_split(i_ext, 2)\n",
    "batch = 1\n",
    "for g in gex:\n",
    "    for current in currents:\n",
    "        print(f'python3 batch.py 3 {batch} {g:.5f} ' + f'{current}')\n",
    "        batch+=1"
   ]
  },
  {
   "cell_type": "code",
   "execution_count": null,
   "metadata": {},
   "outputs": [],
   "source": []
  },
  {
   "cell_type": "code",
   "execution_count": null,
   "metadata": {},
   "outputs": [],
   "source": []
  }
 ],
 "metadata": {
  "kernelspec": {
   "display_name": ".venv",
   "language": "python",
   "name": "python3"
  },
  "language_info": {
   "codemirror_mode": {
    "name": "ipython",
    "version": 3
   },
   "file_extension": ".py",
   "mimetype": "text/x-python",
   "name": "python",
   "nbconvert_exporter": "python",
   "pygments_lexer": "ipython3",
   "version": "3.10.6"
  },
  "orig_nbformat": 4
 },
 "nbformat": 4,
 "nbformat_minor": 2
}
