{
 "cells": [
  {
   "attachments": {},
   "cell_type": "markdown",
   "metadata": {},
   "source": [
    "# Temp notebook"
   ]
  },
  {
   "cell_type": "code",
   "execution_count": 1,
   "metadata": {},
   "outputs": [
    {
     "name": "stdout",
     "output_type": "stream",
     "text": [
      "python3 batch.py 3 1 0.00060 [0.72  0.765 0.81  0.855 0.9  ]\n",
      "python3 batch.py 3 2 0.00095 [0.72  0.765 0.81  0.855 0.9  ]\n",
      "python3 batch.py 3 3 0.00130 [0.72  0.765 0.81  0.855 0.9  ]\n",
      "python3 batch.py 3 4 0.00165 [0.72  0.765 0.81  0.855 0.9  ]\n",
      "python3 batch.py 3 5 0.00200 [0.72  0.765 0.81  0.855 0.9  ]\n"
     ]
    }
   ],
   "source": [
    "import numpy as np\n",
    "# coupling of elements\n",
    "gex = np.round(np.linspace(6,20,5) * 1e-4, 6)\n",
    "\n",
    "# external current\n",
    "i_ext = np.round(np.linspace(0.72, 0.9, 5), 3) #np.arange(0.61,1., 0.01)\n",
    "currents = np.array_split(i_ext, len(i_ext)/4)\n",
    "\n",
    "\n",
    "\n",
    "batch = 1\n",
    "for g in gex:\n",
    "    for current in currents:\n",
    "        print(f'python3 batch.py 3 {batch} {g:.5f} ' + f'{current}')\n",
    "        batch+=1"
   ]
  },
  {
   "cell_type": "code",
   "execution_count": null,
   "metadata": {},
   "outputs": [],
   "source": []
  },
  {
   "cell_type": "code",
   "execution_count": null,
   "metadata": {},
   "outputs": [],
   "source": []
  }
 ],
 "metadata": {
  "kernelspec": {
   "display_name": ".venv",
   "language": "python",
   "name": "python3"
  },
  "language_info": {
   "codemirror_mode": {
    "name": "ipython",
    "version": 3
   },
   "file_extension": ".py",
   "mimetype": "text/x-python",
   "name": "python",
   "nbconvert_exporter": "python",
   "pygments_lexer": "ipython3",
   "version": "3.10.6"
  },
  "orig_nbformat": 4
 },
 "nbformat": 4,
 "nbformat_minor": 2
}
