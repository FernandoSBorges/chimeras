{
 "cells": [
  {
   "attachments": {},
   "cell_type": "markdown",
   "metadata": {},
   "source": [
    "# Quantifiers Notebook\n",
    "\n",
    "This notebook is used to run quantifiers to chimera states and to analyze the data."
   ]
  },
  {
   "cell_type": "code",
   "execution_count": 24,
   "metadata": {},
   "outputs": [],
   "source": [
    "from matplotlib import pyplot as plt\n",
    "import seaborn as sns\n",
    "import numpy as np"
   ]
  },
  {
   "attachments": {},
   "cell_type": "markdown",
   "metadata": {},
   "source": [
    "$$Z_k = | \\frac{1}{2\\delta} \\sum_{|j-k| \\le \\delta} e^{i\\theta_k}|$$"
   ]
  },
  {
   "cell_type": "code",
   "execution_count": 5,
   "metadata": {},
   "outputs": [],
   "source": [
    "def param_local_order(spatial_pattern, n_neighbors):\n",
    "    spatial_pattern = np.array(spatial_pattern)\n",
    "    n = len(spatial_pattern)\n",
    "    n_neighbors = int(n_neighbors/2)\n",
    "    real = np.zeros_like(spatial_pattern, dtype='g')\n",
    "    complx = np.zeros_like(spatial_pattern, dtype='g')\n",
    "    Zk = np.zeros_like(spatial_pattern, dtype='g')\n",
    "\n",
    "    for i in range(n):\n",
    "        for k in range(-n_neighbors, n_neighbors+1):\n",
    "            if i!=(k+i): # not autoconection\n",
    "                real[i%n] += np.cos(2*np.pi*spatial_pattern[(k+i)%n]) # real part\n",
    "                complx[i%n] += np.sin(2*np.pi*spatial_pattern[(k+i)%n]) # img part       \n",
    "        Zk[i%n] += real[(i)%n]*real[(i)%n] + complx[(i)%n]*complx[(i)%n] # \n",
    "        Zk[i%n] = abs((1.0/(2*n_neighbors))*np.sqrt(Zk[i%n])) # len fasor.\n",
    "\n",
    "    return Zk"
   ]
  },
  {
   "cell_type": "code",
   "execution_count": 13,
   "metadata": {},
   "outputs": [],
   "source": [
    "def degree_inconsistency(param_local_order):\n",
    "        n = len(param_local_order)\n",
    "        length_coherent = np.zeros_like(param_local_order, dtype='g')\n",
    "        counter = 1 # counter de grupos (Np)\n",
    "        key = 0 \n",
    "\n",
    "        for r in param_local_order:  \n",
    "            if r > 0.99:\n",
    "                length_coherent[counter] += 1 # counter of coherent groups\n",
    "                key = 1\n",
    "            if r <= 0.99 and key == 1:\n",
    "                counter += 1 # counter of groups\n",
    "                key = 0\n",
    "\n",
    "        Nl = length_coherent.sum()\n",
    "\n",
    "        degree = Nl/(counter) # Ñ \n",
    "        p = degree/n #\n",
    "\n",
    "        return p, Nl, counter"
   ]
  },
  {
   "attachments": {},
   "cell_type": "markdown",
   "metadata": {},
   "source": [
    "# Potential"
   ]
  },
  {
   "cell_type": "code",
   "execution_count": null,
   "metadata": {},
   "outputs": [],
   "source": [
    "def plot_fase_space(data, number_cell):\n",
    "    v = np.array(data['simData']['V_soma'][f'cell_{number_cell}'])[1:]\n",
    "    dVdt = np.diff(data['simData']['V_soma'][f'cell_{number_cell}'])\n",
    "    plt.figure()\n",
    "    plt.title(f'fase space of cell {number_cell}')\n",
    "    sns.scatterplot(x = v, y=dVdt, s=0.5)"
   ]
  },
  {
   "cell_type": "code",
   "execution_count": null,
   "metadata": {},
   "outputs": [],
   "source": [
    "def plotPotential(time, voltage, stim_current, title):\n",
    "\n",
    "    f, (ax0, ax1) = plt.subplots(2,1, figsize=(10,3), gridspec_kw = {'height_ratios':[3, 1]})\n",
    "    sns.lineplot(x = time, y =voltage, color='black', ax=ax0)\n",
    "    ax1.plot(time,stim_current, 'gray')\n",
    "\n",
    "    ax0.set_ylabel('Voltage (mV)')\n",
    "    ax0.spines['right'].set_visible(False)\n",
    "    ax0.spines['top'].set_visible(False)\n",
    "    ax0.spines['bottom'].set_visible(False)\n",
    "    ax0.get_xaxis().set_visible(False)\n",
    "\n",
    "\n",
    "    ax1.plot([0,0],[0,0.15],'k')\n",
    "    ax1.text(20,0.125,f'{stim_current.max()}nA',va='center')\n",
    "    ax1.set_ylabel('I (nA)')\n",
    "    ax1.set_xlabel('t (ms)')\n",
    "\n",
    "    ax1.spines['right'].set_visible(False)\n",
    "    ax1.spines['top'].set_visible(False)\n",
    "    ax1.spines['left'].set_visible(False)\n",
    "    ax1.get_yaxis().set_visible(False)\n",
    "    plt.title(title)\n",
    "    plt.tight_layout()"
   ]
  },
  {
   "cell_type": "code",
   "execution_count": null,
   "metadata": {},
   "outputs": [],
   "source": [
    "def showPotential(label_network, n_cell):\n",
    "    amp = data[label_network]['simConfig']['IClamp0']['amp']\n",
    "    dur = data[label_network]['simConfig']['IClamp0']['dur']\n",
    "    start = data[label_network]['simConfig']['IClamp0']['start']\n",
    "    recordStep = data[label_network]['simConfig']['recordStep']\n",
    "\n",
    "    voltage = np.array(list(data[label_network]['simData']['V_soma'][f'cell_{n_cell}']))\n",
    "    time = np.array(data[label_network]['simData']['t'])\n",
    "    stim_current = np.array([0 if x < start/recordStep or x > (dur+start)/recordStep else amp for x in range(0, len(time))])\n",
    "    gex = data[label_network]['simConfig']['gex']\n",
    "    gex_label = '$g_{ex} = '+ str(gex) +'$'\n",
    "    plotPotential(time,voltage, stim_current,gex_label)\n"
   ]
  }
 ],
 "metadata": {
  "kernelspec": {
   "display_name": ".venv",
   "language": "python",
   "name": "python3"
  },
  "language_info": {
   "codemirror_mode": {
    "name": "ipython",
    "version": 3
   },
   "file_extension": ".py",
   "mimetype": "text/x-python",
   "name": "python",
   "nbconvert_exporter": "python",
   "pygments_lexer": "ipython3",
   "version": "3.10.6"
  },
  "orig_nbformat": 4
 },
 "nbformat": 4,
 "nbformat_minor": 2
}
