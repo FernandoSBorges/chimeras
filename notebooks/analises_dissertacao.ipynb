{
 "cells": [
  {
   "attachments": {},
   "cell_type": "markdown",
   "metadata": {},
   "source": [
    "# Notebook for analysis"
   ]
  },
  {
   "cell_type": "code",
   "execution_count": null,
   "metadata": {},
   "outputs": [],
   "source": [
    "import pickle\n",
    "import numpy as np\n",
    "from matplotlib import pyplot as plt\n",
    "import seaborn as sns\n",
    "import matplotlib.colors as mcolors\n",
    "cores = list(mcolors.TABLEAU_COLORS.keys())\n",
    "cores = [cor.split(':')[-1] for cor in cores]\n",
    "\n",
    "sns.set_context('paper')\n",
    "%matplotlib inline\n",
    "\n",
    "def plot_params():\n",
    "    plt.rc('text', usetex=True)\n",
    "    plt.rc('font', size=13)\n",
    "    plt.rc('xtick', labelsize=11)\n",
    "    plt.rc('ytick', labelsize=11)\n",
    "    plt.rc('axes', labelsize=14)\n",
    "    plt.rc('legend', fontsize=8)\n",
    "    plt.rc('lines', linewidth=1.0)\n",
    "    plt.rcParams[\"axes.formatter.limits\"] = (-3, 4)\n",
    "    plt.rc('font', **{'family': 'serif', 'serif': ['Computer Modern']})\n",
    "plot_params()"
   ]
  },
  {
   "attachments": {},
   "cell_type": "markdown",
   "metadata": {},
   "source": [
    "# 1 Single neuron HH\n",
    "\n",
    "desscribe the neuron's of hodgkin-huxley with their ionic currents.\n",
    "\n",
    "the phase espaces and fixed points."
   ]
  },
  {
   "attachments": {},
   "cell_type": "markdown",
   "metadata": {},
   "source": [
    "## 1 Single neuron HH\n",
    "\n",
    "Describing the Hodgkin-Huxley neurons with their ionic currents and frequency of spike for each current external injected."
   ]
  },
  {
   "cell_type": "code",
   "execution_count": null,
   "metadata": {},
   "outputs": [],
   "source": [
    "import os\n",
    "import numpy as np\n",
    "from matplotlib import pyplot as plt\n",
    "\n",
    "os.chdir('PospischilEtAl2008')\n",
    "\n",
    "import neuron as nrn # NEURON simulator\n",
    "nrn.h.load_file(\"mosinit.hoc\");\n",
    "nrn.h.load_file(\"demo_PY_IBR.hoc\");"
   ]
  },
  {
   "attachments": {},
   "cell_type": "markdown",
   "metadata": {},
   "source": [
    "Create Soma and insert mechanisms"
   ]
  },
  {
   "cell_type": "code",
   "execution_count": null,
   "metadata": {},
   "outputs": [],
   "source": [
    "os.chdir('..')"
   ]
  },
  {
   "cell_type": "code",
   "execution_count": null,
   "metadata": {},
   "outputs": [],
   "source": [
    "def create_soma(verbose=False):\n",
    "    soma = nrn.h.Section(name='soma')\n",
    "    soma.nseg = 1 #\n",
    "    soma.diam = 96 #\n",
    "    soma.L = 96 #\t\t\t// so that area is about 29000 um2\n",
    "    soma.cm = 1 #\n",
    "    soma.Ra = 100 #\t\t// geometry \n",
    "\n",
    "    if verbose:\n",
    "        print(\"- Soma object:\", soma)\n",
    "        print(\"- Number of segments in the soma:\", soma.nseg)\n",
    "        print(f'- Diam: {soma.diam} | L: {soma.L} | cm: {soma.cm} | Ra: {soma.Ra}')\n",
    "    return soma\n",
    "\n",
    "def insert_mechanisms(soma, hh2=True, pas=True, im=True, it=True, il=True, return_mechs = False):\n",
    "    if pas:\n",
    "        soma.insert('pas')\n",
    "        soma.e_pas = -85\n",
    "        soma.g_pas = 1e-5 #\t\t// idem TC cell\n",
    "\n",
    "    if hh2:\n",
    "        soma.insert('hh2'); #\t\t// Hodgin-Huxley INa and IK \n",
    "        soma.ek = -100 #\t\t// potassium reversal potential \n",
    "        soma.ena = 50 #\t\t\t// sodium reversal potential \n",
    "        soma.vtraub_hh2 = -55 #\t// Resting Vm, BJ was -55\n",
    "        soma.gnabar_hh2 = 0.05 #\t// McCormick=15 muS, thal was 0.09\n",
    "        soma.gkbar_hh2 = 0.005 #\t// spike duration of pyr cells\n",
    "        celsius = 36\n",
    "        v_init = -84\n",
    "    \n",
    "    if im:\n",
    "        soma.insert('im'); #\t\t// M current \n",
    "        taumax_im = 1000\n",
    "        soma.gkbar_im = 3e-5 #\t\t// specific to LTS pyr cell\n",
    "    \n",
    "    if it:\n",
    "        soma.insert('it'); #// IT current \n",
    "        soma.cai = 2.4e-4 \n",
    "        soma.cao = 2 \n",
    "        #eca = 120 \n",
    "        soma.gcabar_it = 0.0004 #// specific to LTS pyr cell\n",
    "\n",
    "    if il:\n",
    "        soma.insert('ical'); #// IL current (Reuveni et al. model, Nernst)\n",
    "        soma.cai = 2.4e-4 \n",
    "        soma.cao = 2 \n",
    "        #soma.eca = 120 \n",
    "        soma.gcabar_ical = 2.2e-4\n",
    "\n",
    "        soma.insert('cad');  #\t\t// calcium decay\n",
    "        soma.depth_cad = 1 #\t\t// McCormick= 0.1 um\n",
    "        soma.taur_cad = 5 #\t\t// McCormick=1 ms !!!\n",
    "        soma.cainf_cad = 2.4e-4 #\t// McCormick=0\n",
    "        soma.kt_cad = 0 #\t\t// no pump\n",
    "        soma.depth_cad = 1 #\t\t// McCormick= 0.1 um\n",
    "    \n",
    "    \n",
    "    if return_mechs:\n",
    "        return soma, hh2, pas, im, it, il\n",
    "    else:\n",
    "        return soma"
   ]
  },
  {
   "cell_type": "code",
   "execution_count": null,
   "metadata": {},
   "outputs": [],
   "source": []
  },
  {
   "cell_type": "code",
   "execution_count": null,
   "metadata": {},
   "outputs": [],
   "source": [
    "def simConfig(soma, t, amp, dur, delay, return_channels=False, verbose=False):\n",
    "    # Simulations Config\n",
    "    ## Runs:\n",
    "    nrn.h.tstop = t\n",
    "    nrn.h.dt = 0.01\n",
    "\n",
    "    iclamp = nrn.h.IClamp(.5, sec=soma)\n",
    "    iclamp.amp = amp # nA\n",
    "    iclamp.delay = delay # ms\n",
    "    iclamp.dur = dur # ms\n",
    "\n",
    "    #### Vectors\n",
    "    time = nrn.h.Vector()\n",
    "    voltage = nrn.h.Vector()\n",
    "    stim_current = nrn.h.Vector()\n",
    "\n",
    "    time.record(nrn.h._ref_t)\n",
    "    voltage.record(soma(.5)._ref_v);\n",
    "    stim_current.record(iclamp._ref_i)\n",
    "\n",
    "    mechs_ionic = {}\n",
    "    for mechs, param_mechs in soma.psection()['density_mechs'].items():\n",
    "        for key_mechs in param_mechs.keys():\n",
    "            if key_mechs in ['m','n','h']:\n",
    "                # find the mechanisms and create a vector to record data.\n",
    "                mechs_ionic[f'{key_mechs}_{mechs}'] = nrn.h.Vector()\n",
    "\n",
    "    channels = {}\n",
    "    for channel, mechs in mechs_ionic.items():\n",
    "        # for every ionic mechanism, get the attribute and record it\n",
    "        ref_record = getattr(soma(.5), f'_ref_{channel}')\n",
    "        channels[channel] = mechs.record(ref_record);\n",
    "        if verbose:\n",
    "            print(f'--> mechanism {mechs_ionic} of soma is recorded...')\n",
    "\n",
    "    if verbose:\n",
    "        print(\"- Simulation stop time: %f ms\" % nrn.h.tstop)\n",
    "        print(\"- Integration time step: %f ms\" % nrn.h.dt)\n",
    "        print(\"- Amplitude external current: %f nA\" % iclamp.amp)\n",
    "        print(\"- Duration external current: %f ms\" % iclamp.dur)\n",
    "        print(\"- Delay external current: %f ms\" % iclamp.delay)\n",
    "        print('- Return Channels: ', return_channels)\n",
    "    nrn.h.run()\n",
    "    \n",
    "    if return_channels:\n",
    "        return time, voltage, stim_current, channels\n",
    "    else:\n",
    "        return time, voltage, stim_current"
   ]
  },
  {
   "cell_type": "code",
   "execution_count": null,
   "metadata": {},
   "outputs": [],
   "source": [
    "## Plots\n",
    "def plot_tv(time_array, voltage_array, show=True, label=None, figsize=(10,3), color='black',\n",
    "            ylabel='Membrane voltage (mV)', xyaxis=[2690, 3000, -85, 50], constants=[]):\n",
    "    import matplotlib.pyplot as plt\n",
    "    import numpy\n",
    "    plt.figure(figsize=figsize)\n",
    "    plt.plot(time_array, voltage_array, label=label, color=color, linewidth=0.7)\n",
    "    for constant in constants:\n",
    "        plt.plot(time_array, constant*numpy.ones(len(time_array)))\n",
    "    plt.xlabel('Time (ms)')\n",
    "    plt.ylabel(ylabel)\n",
    "    plt.axis(xyaxis)\n",
    "    if show:\n",
    "        plt.show()\n",
    "\n",
    "def plot_voltage_stim(time_array, voltage_array, stim_array, title, figsize=(10,3), save=False):\n",
    "    #------------------------------------------------------------------------------\n",
    "    # Plot figure\n",
    "    #------------------------------------------------------------------------------\n",
    "    f, (ax0, ax1) = plt.subplots(2,1, figsize=figsize, gridspec_kw = {'height_ratios':[3, 1]})\n",
    "    sns.lineplot(x = time_array, y =voltage_array, color='black', ax=ax0)\n",
    "    ax1.plot(time_array,stim_array, 'gray')\n",
    "\n",
    "    ax0.set_ylim(-90, 55)\n",
    "    ax0.set_ylabel('Voltage (mV)')\n",
    "    ax0.spines['right'].set_visible(False)\n",
    "    ax0.spines['top'].set_visible(False)\n",
    "    ax0.spines['bottom'].set_visible(False)\n",
    "    ax0.get_xaxis().set_visible(False)\n",
    "\n",
    "\n",
    "    ax1.plot([0,0],[0,0.15],'k')\n",
    "    ax1.text(20,stim_array.max()+0.03,f'{stim_array.max():.2f}nA',va='center')\n",
    "    ax1.set_ylabel('Injected current (nA)')\n",
    "    ax1.set_xlabel('Time (ms)')\n",
    "\n",
    "    ax1.spines['right'].set_visible(False)\n",
    "    ax1.spines['top'].set_visible(False)\n",
    "    ax1.spines['left'].set_visible(False)\n",
    "    ax1.get_yaxis().set_visible(False)\n",
    "    if save:        \n",
    "        path_figures = '../figures/'\n",
    "        fname = title.replace(' ','_')\n",
    "        plt.savefig(path_figures + fname+'.png', dpi=600, bbox_inches='tight')\n",
    "    plt.tight_layout()\n",
    "    plt.show()\n",
    "\n",
    "\n",
    "def plot_channels(channels, time_array, stim_array, title, figsize=(10,3), save=False):\n",
    "    import matplotlib.colors as mcolors\n",
    "    cores = list(mcolors.TABLEAU_COLORS.keys())\n",
    "    cores = [cor.split(':')[-1] for cor in cores]\n",
    "    #------------------------------------------------------------------------------\n",
    "    # Plot figure\n",
    "    #------------------------------------------------------------------------------\n",
    "    f, ax = plt.subplots(nrows=int(len(channels)+1), ncols=1, figsize=figsize)\n",
    "    for i, (axis, (channel, value)) in enumerate(zip(ax[:-1], channels.items())):\n",
    "        sns.lineplot(x = time_array, y =value, color=cores[i], ax=axis, label=f'{channel}'.replace('_', ' '))\n",
    "        #axis.set_xlim(-5,time_array[-1])\n",
    "        axis.spines['right'].set_visible(False)\n",
    "        axis.spines['top'].set_visible(False)\n",
    "        axis.spines['bottom'].set_visible(False)\n",
    "        axis.get_xaxis().set_visible(False)\n",
    "        axis.legend(loc='lower left')\n",
    "    ax[-1].plot(time_array,stim_array, 'gray')\n",
    "    ax[-1].plot([0,0],[0,0.15],'k')\n",
    "    ax[-1].text(20,stim_array.max()+0.03,f'{stim_array.max():.2f}nA',va='center')\n",
    "    ax[-1].set_ylabel('Injected current (nA)')\n",
    "    ax[-1].set_xlabel('Time (ms)')\n",
    "\n",
    "    ax[-1].spines['right'].set_visible(False)\n",
    "    ax[-1].spines['top'].set_visible(False)\n",
    "    ax[-1].spines['left'].set_visible(False)\n",
    "    ax[-1].get_yaxis().set_visible(False)\n",
    "    if save:        \n",
    "        path_figures = '../figures/'\n",
    "        fname = title.replace(' ','_')\n",
    "        plt.savefig(path_figures + fname + '.png', dpi=600, bbox_inches='tight')\n",
    "    plt.tight_layout()\n",
    "    plt.show()"
   ]
  },
  {
   "attachments": {},
   "cell_type": "markdown",
   "metadata": {},
   "source": [
    "## Hodgkin-Huxley neuron adapted by Traub and Miles 1991\n",
    "\n",
    "$$I_\\text{total} = I_\\text{Na} +I_\\text{K}$$\n",
    "\n",
    "\n",
    "\n",
    "\\begin{equation}\n",
    "    I_\\text{Na} = \\bar{g}_\\text{Na}m^3h(V-E_\\text{Na}),  \n",
    "\\end{equation}\n",
    "\n",
    "\\begin{equation*}\n",
    "    \\frac{dm}{dt} = \\alpha_m(V)(1 - m)-\\beta_m(V)m,\n",
    "\\end{equation*}\n",
    "\n",
    "\\begin{equation*}\n",
    "    \\frac{dh}{dt} = \\alpha_h(V)(1 - h)-\\beta_h(V)h,\n",
    "\\end{equation*}\n",
    "\n",
    "%% auxiliary potassium equations\n",
    "\\begin{equation*}\n",
    "    \\alpha_m = \\frac{-0.32(V - V_T - 13)}{\\text{exp}[-(V- V_T - 13)/4] - 1},\n",
    "\\end{equation*}\n",
    "\n",
    "\\begin{equation*}\n",
    "    \\beta_m = \\frac{0.28(V-V_T-40)}{\\text{exp}[(V-V_T-40)/5] - 1},\n",
    "\\end{equation*}\n",
    "\n",
    "\\begin{equation*}\n",
    "    \\alpha_h = 0.128\\text{exp}[-(V - V_T - 17)/18],\n",
    "\\end{equation*}\n",
    "\n",
    "\\begin{equation*}\n",
    "    \\beta_h = \\frac{4}{1+ \\text{exp}[-(V-V_T - 40/5)]},\n",
    "\\end{equation*}\n",
    "\n",
    "\n",
    "\\begin{equation}\n",
    "    I_{\\text{K}} = \\bar{g}_\\text{K}n^4(V - E_\\text{K}),\n",
    "\\end{equation}\n",
    "\n",
    "\\begin{equation*}\n",
    "    \\frac{dn}{dt} = \\alpha_n(V)(1-n) - \\beta_n(V)n\n",
    "\\end{equation*}\n",
    "\n",
    "\\begin{equation*}\n",
    "    \\alpha_n = \\frac{-0.032(V - V_T - 15)}{\\text{exp}[-(V - V_T - 15)/5]-1},\n",
    "\\end{equation*}\n",
    "\n",
    "\\begin{equation*}\n",
    "    \\beta_n = 0.5\\text{exp}[-(V - V_T - 10)/40].\n",
    "\\end{equation*}\n"
   ]
  },
  {
   "cell_type": "code",
   "execution_count": null,
   "metadata": {},
   "outputs": [],
   "source": [
    "soma = create_soma()\n",
    "soma = insert_mechanisms(soma, hh2=True, pas=True, im=False, il=False, it=False)\n",
    "time, voltage, stim, channels = simConfig(soma, 2000, 0.15, 1800, 100, return_channels=True)"
   ]
  },
  {
   "cell_type": "code",
   "execution_count": null,
   "metadata": {},
   "outputs": [],
   "source": []
  },
  {
   "cell_type": "code",
   "execution_count": null,
   "metadata": {},
   "outputs": [],
   "source": [
    "time = np.array(time)\n",
    "voltage = np.array(voltage)\n",
    "stim = np.array(stim)\n",
    "chnn = {}\n",
    "\n",
    "for channel, value in channels.items():\n",
    "    chnn[channel] = np.array(value)\n",
    "channels = chnn\n",
    "\n",
    "f, ax = plt.subplots(5,1, figsize=(6,8),sharex=True, gridspec_kw = {'height_ratios':[3,2,2,2,1]})\n",
    "for axis in ax:\n",
    "    axis.spines['right'].set_visible(False)\n",
    "    axis.spines['top'].set_visible(False)\n",
    "    # axis.xaxis.set_ticks_position('none') \n",
    "    axis.set_xlim(490, 505)\n",
    "\n",
    "sns.lineplot(y = voltage, x=time, color='black', ax=ax[0])\n",
    "ax[0].set_ylabel('Voltagem (mV)')\n",
    "ax[0].set_title('Modelo Hodgkin-Huxley adaptado por Traub e Miles\\nSimulado 1s e exibido somente 15ms')\n",
    "\n",
    "sns.lineplot(y = stim, x=time, color='gray', ax=ax[4])\n",
    "ax[4].set_ylabel('$I_j$(nA)')\n",
    "ax[4].set_title('Corrente elétrica injetada')\n",
    "ax[4].set_ylim(0,0.2)\n",
    "ax[4].set_xlabel('Tempo (ms)')\n",
    "\n",
    "for i, (axis, (chanel, value)) in enumerate(zip(ax[1:4], channels.items())):\n",
    "    sns.lineplot(y = value, x=time, ax=axis, color=cores[i],label=f'{chanel}'.replace('_', ' '))\n",
    "\n",
    "ax[1].set_title('Ativação dos Canais de sódio')\n",
    "ax[2].set_title('Inativação dos Canais de sódio')\n",
    "ax[3].set_title('Ativação dos Canais de potássio')\n",
    "f.set_tight_layout(20)\n",
    "\n",
    "\n",
    "\n"
   ]
  },
  {
   "cell_type": "code",
   "execution_count": null,
   "metadata": {},
   "outputs": [],
   "source": []
  },
  {
   "cell_type": "code",
   "execution_count": null,
   "metadata": {},
   "outputs": [],
   "source": [
    "plot_voltage_stim(time, voltage, stim, title='Hodgkin-Huxley neuron adapted by Traub and Miles 1991',figsize=(6,3), save=False)\n",
    "plot_channels(channels, time, stim, figsize=(6,3), save=False, title='Channels of Traub and Miles')"
   ]
  },
  {
   "attachments": {},
   "cell_type": "markdown",
   "metadata": {},
   "source": [
    "## Traub Miles with Slow potassium currents for spike-frequency adaptation by Yamada et al. 1989"
   ]
  },
  {
   "cell_type": "code",
   "execution_count": null,
   "metadata": {},
   "outputs": [],
   "source": [
    "soma = create_soma()\n",
    "soma = insert_mechanisms(soma, hh2=True, pas=True, im=True, il=False,  it=False)\n",
    "time, voltage, stim, channels = simConfig(soma, 500, 0.13, 500, 0, return_channels=True)"
   ]
  },
  {
   "cell_type": "code",
   "execution_count": null,
   "metadata": {},
   "outputs": [],
   "source": [
    "time = np.array(time)\n",
    "voltage = np.array(voltage)\n",
    "stim = np.array(stim)\n",
    "chnn = {}\n",
    "\n",
    "for channel, value in channels.items():\n",
    "    chnn[channel] = np.array(value)\n",
    "channels = chnn\n",
    "\n",
    "f, ax = plt.subplots(6,1, figsize=(6,8),sharex=True, gridspec_kw = {'height_ratios':[3,2,2,2,2,1]})\n",
    "for axis in ax:\n",
    "    axis.spines['right'].set_visible(False)\n",
    "    axis.spines['top'].set_visible(False)\n",
    "    # axis.xaxis.set_ticks_position('none') \n",
    "    axis.set_xlim(140, 170)\n",
    "\n",
    "sns.lineplot(y = voltage, x=time, color='black', ax=ax[0])\n",
    "ax[0].set_ylabel('Voltagem (mV)')\n",
    "ax[0].set_title('Traub Miles and Slow potassium currents for spike-frequency adaptation by Yamada et al. 1989\\nSimulado 500ms e exibido somente 30ms')\n",
    "\n",
    "sns.lineplot(y = stim, x=time, color='gray', ax=ax[5])\n",
    "ax[5].set_ylabel('$I_j$(nA)')\n",
    "ax[5].set_title('Corrente elétrica injetada')\n",
    "ax[5].set_ylim(0,0.2)\n",
    "ax[5].set_xlabel('Tempo (ms)')\n",
    "\n",
    "for i, (axis, (chanel, value)) in enumerate(zip(ax[1:5], channels.items())):\n",
    "    sns.lineplot(y = value, x=time, ax=axis, color=cores[i],label=f'{chanel}'.replace('_', ' '))\n",
    "\n",
    "ax[1].set_title('Ativação dos Canais de sódio')\n",
    "ax[2].set_title('Inativação dos Canais de sódio')\n",
    "ax[3].set_title('Ativação dos Canais de potássio')\n",
    "ax[4].set_title('Ativação lenta dos Canais de potássio')\n",
    "f.set_tight_layout(20)\n",
    "\n",
    "\n",
    "\n"
   ]
  },
  {
   "attachments": {},
   "cell_type": "markdown",
   "metadata": {},
   "source": [
    "## Diferenças entre Traub-Miles e Yamada:"
   ]
  },
  {
   "cell_type": "code",
   "execution_count": null,
   "metadata": {},
   "outputs": [],
   "source": [
    "soma_traub = create_soma()\n",
    "soma_traub = insert_mechanisms(soma_traub, hh2=True, pas=True, im=False, il=False, it=False)\n",
    "time, voltage, stim, channels = simConfig(soma_traub, 2000, 0.2, 1800, 100, return_channels=True)\n",
    "\n",
    "time = np.array(time)\n",
    "voltage = np.array(voltage)\n",
    "stim = np.array(stim)\n",
    "chnn = {}\n",
    "\n",
    "for channel, value in channels.items():\n",
    "    chnn[channel] = np.array(value)\n",
    "channels = chnn\n",
    "\n",
    "traub = {\n",
    "    'time':time,\n",
    "    'voltage':voltage,\n",
    "    'stim':stim,\n",
    "    'channels':channels\n",
    "    }\n",
    "\n",
    "soma_yam = create_soma()\n",
    "soma_yam = insert_mechanisms(soma_yam, hh2=True, pas=True, im=True, il=False, it=False)\n",
    "time, voltage, stim, channels = simConfig(soma_yam, 2000, 0.2, 1800, 100, return_channels=True)\n",
    "\n",
    "time = np.array(time)\n",
    "voltage = np.array(voltage)\n",
    "stim = np.array(stim)\n",
    "chnn = {}\n",
    "\n",
    "for channel, value in channels.items():\n",
    "    chnn[channel] = np.array(value)\n",
    "channels = chnn\n",
    "\n",
    "yamada = {\n",
    "    'time':time,\n",
    "    'voltage':voltage,\n",
    "    'stim':stim,\n",
    "    'channels':channels\n",
    "    }"
   ]
  },
  {
   "cell_type": "code",
   "execution_count": null,
   "metadata": {},
   "outputs": [],
   "source": [
    "f, ax = plt.subplots(ncols=1, nrows=3, figsize=(8,5), sharex=True, gridspec_kw={'height_ratios':[3,3,1]})\n",
    "f.set_tight_layout(20)\n",
    "for axis in ax:\n",
    "    axis.spines['right'].set_visible(False)\n",
    "    axis.spines['top'].set_visible(False)\n",
    "\n",
    "sns.lineplot(y = traub['voltage'], x=time, ax=ax[0], color='black')\n",
    "sns.lineplot(y = yamada['voltage'], x=time, ax=ax[1], color='black')\n",
    "sns.lineplot(y = stim, x=time, color='gray', ax=ax[-1])\n",
    "ax[-1].set_xlabel('Tempo (ms)')\n",
    "ax[-1].set_ylabel('I (nA)')\n",
    "\n",
    "ax[0].set_title('Hodgkin-Huxley neuron adapted by Traub and Miles 1991')\n",
    "ax[1].set_title('Traub Miles with Slow potassium currents for spike-frequency adaptation by Yamada et al. 1989')\n",
    "ax[2].set_title('Corrente elétrica injetada')\n",
    "ax[0].set_ylabel('Voltagem (mV)')\n",
    "ax[1].set_ylabel('Voltagem (mV)')\n",
    "\n",
    "plt.show()"
   ]
  },
  {
   "attachments": {},
   "cell_type": "markdown",
   "metadata": {},
   "source": [
    "## Frequencia do disparo pela corrente injetada"
   ]
  },
  {
   "cell_type": "code",
   "execution_count": null,
   "metadata": {},
   "outputs": [],
   "source": [
    "soma_traub = create_soma()\n",
    "soma_traub = insert_mechanisms(soma_traub, hh2=True, pas=True, im=False, il=False, it=False)\n",
    "time, voltage, stim, channels = simConfig(soma_traub, 3000, 0.2, 3000, 0, return_channels=True)\n",
    "\n",
    "time = np.array(time)\n",
    "voltage = np.array(voltage)\n",
    "stim = np.array(stim)\n",
    "chnn = {}\n",
    "\n",
    "for channel, value in channels.items():\n",
    "    chnn[channel] = np.array(value)\n",
    "channels = chnn\n",
    "\n",
    "traub = {\n",
    "    'time':time,\n",
    "    'voltage':voltage,\n",
    "    'stim':stim,\n",
    "    'channels':channels\n",
    "    }\n",
    "\n",
    "soma_yam = create_soma()\n",
    "soma_yam = insert_mechanisms(soma_yam, hh2=True, pas=True, im=True, il=False, it=False)\n",
    "time, voltage, stim, channels = simConfig(soma_yam, 3000, 0.2, 3000, 0, return_channels=True)\n",
    "\n",
    "time = np.array(time)\n",
    "voltage = np.array(voltage)\n",
    "stim = np.array(stim)\n",
    "chnn = {}\n",
    "\n",
    "for channel, value in channels.items():\n",
    "    chnn[channel] = np.array(value)\n",
    "channels = chnn\n",
    "\n",
    "yamada = {\n",
    "    'time':time,\n",
    "    'voltage':voltage,\n",
    "    'stim':stim,\n",
    "    'channels':channels\n",
    "    }"
   ]
  },
  {
   "cell_type": "code",
   "execution_count": null,
   "metadata": {},
   "outputs": [],
   "source": [
    "from scipy import signal\n"
   ]
  },
  {
   "cell_type": "code",
   "execution_count": null,
   "metadata": {},
   "outputs": [],
   "source": [
    "traub_peaks, _ = signal.find_peaks(traub['voltage'],height=0)\n",
    "yamada_peaks, _ = signal.find_peaks(yamada['voltage'],height=0)\n",
    "\n",
    "traub['volt_peaks'] = traub['voltage'][traub_peaks]\n",
    "traub['time_peaks'] = traub['time'][traub_peaks]\n",
    "\n",
    "yamada['volt_peaks'] = yamada['voltage'][yamada_peaks]\n",
    "yamada['time_peaks'] = yamada['time'][yamada_peaks]"
   ]
  },
  {
   "cell_type": "code",
   "execution_count": null,
   "metadata": {},
   "outputs": [],
   "source": [
    "f, ax = plt.subplots(ncols=1, nrows=2, figsize=(6,4), sharex=True, )\n",
    "f.set_tight_layout(20)\n",
    "for axis in ax:\n",
    "    axis.spines['right'].set_visible(False)\n",
    "    axis.spines['top'].set_visible(False)\n",
    "\n",
    "sns.lineplot(y = traub['voltage'], x=time, ax=ax[0], color='black')\n",
    "sns.scatterplot(y = traub['volt_peaks'], x=traub['time_peaks'], ax=ax[0], color='red')\n",
    "\n",
    "sns.lineplot(y = yamada['voltage'], x=time, ax=ax[1], color='black')\n",
    "sns.scatterplot(y = yamada['volt_peaks'], x=yamada['time_peaks'], ax=ax[1], color='red')\n",
    "ax[-1].set_xlabel('Tempo (ms)')\n",
    "#ax[-1].set_ylabel('I (nA)')\n",
    "\n",
    "ax[0].set_title('Hodgkin-Huxley neuron adapted by Traub and Miles 1991')\n",
    "ax[1].set_title('Traub Miles with Slow potassium currents for spike-frequency adaptation by Yamada et al. 1989')\n",
    "ax[0].set_ylabel('Voltagem (mV)')\n",
    "ax[1].set_ylabel('Voltagem (mV)')\n",
    "\n",
    "plt.show()"
   ]
  },
  {
   "cell_type": "code",
   "execution_count": null,
   "metadata": {},
   "outputs": [],
   "source": [
    "freq_traub = len(traub['volt_peaks'])/traub['time'][-1]\n",
    "freq_yamada = len(yamada['volt_peaks'])/traub['time'][-1]\n",
    "\n",
    "print(freq_traub*1e3, freq_yamada*1e3)"
   ]
  },
  {
   "attachments": {},
   "cell_type": "markdown",
   "metadata": {},
   "source": [
    "```python\n",
    "def frequency_spikes(time, voltage):\n",
    "    peaks,_ = signal.find_peaks(voltage)\n",
    "    frequency = len(peaks) / (time[-1] - time[0])\n",
    "    frequency *= 1e3\n",
    "    return frequency\n",
    "```"
   ]
  },
  {
   "cell_type": "code",
   "execution_count": null,
   "metadata": {},
   "outputs": [],
   "source": [
    "def frequency_spikes(time_arr, voltage_arr):\n",
    "    peaks,_ = signal.find_peaks(voltage_arr,height=0)\n",
    "    frequency = ( len(peaks) / (time_arr[-1] - time_arr[0])) * 1e3\n",
    "    return frequency"
   ]
  },
  {
   "cell_type": "code",
   "execution_count": null,
   "metadata": {},
   "outputs": [],
   "source": [
    "currents_inj = np.arange(0.0,0.8,0.01)"
   ]
  },
  {
   "cell_type": "code",
   "execution_count": null,
   "metadata": {},
   "outputs": [],
   "source": [
    "def apply_stim_traub(stim):\n",
    "    soma = create_soma()\n",
    "    soma = insert_mechanisms(soma, hh2=True, pas=True, im=False, il=False, it=False)\n",
    "    time, voltage, _, = simConfig(soma, 3000, stim, 2800, 100, return_channels=False)\n",
    "    return np.array(time), np.array(voltage)\n",
    "\n",
    "def apply_stim_yamada(stim):\n",
    "    soma = create_soma()\n",
    "    soma = insert_mechanisms(soma, hh2=True, pas=True, im=True, il=False, it=False)\n",
    "    time, voltage, _, = simConfig(soma, 3000, stim, 2800, 100, return_channels=False)\n",
    "    return np.array(time), np.array(voltage)\n"
   ]
  },
  {
   "cell_type": "code",
   "execution_count": null,
   "metadata": {},
   "outputs": [],
   "source": [
    "freq_traub, freq_yamada = np.zeros_like(currents_inj), np.zeros_like(currents_inj)\n",
    "for i, i_inj in enumerate(currents_inj):\n",
    "    time, voltage_tb = apply_stim_traub(i_inj)\n",
    "    _, voltage_ym = apply_stim_yamada(i_inj)\n",
    "\n",
    "    freq_tb = frequency_spikes(time, voltage_tb)\n",
    "    freq_ym = frequency_spikes(time, voltage_ym)\n",
    "\n",
    "    freq_traub[i] = freq_tb\n",
    "    freq_yamada[i] = freq_ym\n",
    "\n",
    "\n",
    "\n"
   ]
  },
  {
   "cell_type": "code",
   "execution_count": null,
   "metadata": {},
   "outputs": [],
   "source": [
    "f, ax = plt.subplots(figsize=(6,5))\n",
    "ax.spines['right'].set_visible(False)\n",
    "ax.spines['top'].set_visible(False)\n",
    "plt.plot(currents_inj, freq_traub, 'o-', label='Traub')\n",
    "plt.plot(currents_inj, freq_yamada, 'o-', label='Yamada')\n",
    "ax.set_xlabel('Corrente Injetada (nA)')\n",
    "ax.set_ylabel('Frequência Spikes (Hz)')\n",
    "plt.legend()\n",
    "plt.show()\n"
   ]
  },
  {
   "attachments": {},
   "cell_type": "markdown",
   "metadata": {},
   "source": [
    "# 2) Networks of hh neurons\n",
    "\n",
    "the couplings of flux and their fixed poins.\n",
    "\n",
    "add the extra neurons to insert a noise in the initial conditions.\n",
    "\n",
    "show the difference in both cases: network with the neurons that insert the noise and without them."
   ]
  },
  {
   "cell_type": "code",
   "execution_count": 1,
   "metadata": {},
   "outputs": [],
   "source": [
    "import pickle\n",
    "import numpy as np\n",
    "import scipy\n",
    "import seaborn as sns\n",
    "from matplotlib import pyplot as plt\n",
    "\n",
    "import matplotlib.colors as mcolors\n",
    "from matplotlib.colors import LinearSegmentedColormap\n",
    "cores = list(mcolors.TABLEAU_COLORS.keys())\n",
    "cores = [cor.split(':')[-1] for cor in cores]\n",
    "\n",
    "# sns.set_context('paper')\n",
    "\n",
    "def plot_params():\n",
    "    plt.rc('text', usetex=True)\n",
    "    plt.rc('font', size=13)\n",
    "    plt.rc('xtick', labelsize=11)\n",
    "    plt.rc('ytick', labelsize=11)\n",
    "    plt.rc('axes', labelsize=14)\n",
    "    plt.rc('legend', fontsize=8)\n",
    "    plt.rc('lines', linewidth=1.0)\n",
    "    plt.rcParams[\"axes.formatter.limits\"] = (-3, 4)\n",
    "    plt.rc('font', **{'family': 'serif', 'serif': ['Computer Modern']})\n",
    "plot_params()\n",
    "\n",
    "\n",
    "from matplotlib.colors import LinearSegmentedColormap\n",
    "colors = [\"yellow\",\"gold\",\"lawngreen\",\"royalblue\", \"midnightblue\",\"royalblue\",\"lawngreen\",\"gold\",\"yellow\"]\n",
    "nodes = np.linspace(0, 1, len(colors))\n",
    "cmap_phase = LinearSegmentedColormap.from_list(\"mycmap\", list(zip(nodes, colors)))\n",
    "\n",
    "colors1 = [\"black\",\"gold\",\"lawngreen\"]\n",
    "nodes1 = np.linspace(0, 1, len(colors1))\n",
    "cmap_potential = LinearSegmentedColormap.from_list(\"mycmap\", list(zip(nodes1, colors1)))\n",
    "\n",
    "\n",
    "\n"
   ]
  },
  {
   "cell_type": "code",
   "execution_count": 2,
   "metadata": {},
   "outputs": [],
   "source": [
    "%matplotlib inline"
   ]
  },
  {
   "cell_type": "code",
   "execution_count": 3,
   "metadata": {},
   "outputs": [],
   "source": [
    "file = '../data/v7_batch0001/v7_batch0001_0_'\n",
    "with open(file+'0_data.pkl', 'rb') as f:\n",
    "    data = pickle.load(f)"
   ]
  },
  {
   "cell_type": "code",
   "execution_count": 4,
   "metadata": {},
   "outputs": [],
   "source": [
    "\n",
    "def plotRaster(data):\n",
    "    ti = data['simData']['t'][-1] - 2000\n",
    "    tf = None\n",
    "    len_net = len(data['simData']['V_soma'].keys())\n",
    "    gex = data['simConfig']['gex']\n",
    "    amp = data['simConfig']['IClamp0']['amp']\n",
    "    popRates = data['simData']['popRates']['sPY']\n",
    "    #sync = data['sync']['statData'][0][0]\n",
    "    #cv_bar = np.mean(data['CV']['statData'])\n",
    "\n",
    "    spkid = np.array(data['simData']['spkid'])\n",
    "    spkt = np.array(data['simData']['spkt'])\n",
    "\n",
    "    if tf == None:\n",
    "        tf = spkt[-1]\n",
    "\n",
    "    fig, ax = plt.subplots(1,1, figsize=(10,3))\n",
    "    fig.set_tight_layout(20)\n",
    "\n",
    "    ax.spines['right'].set_visible(False)\n",
    "    ax.spines['top'].set_visible(False)\n",
    "    ax.set_ylabel('$n$-ésimo Neurônio')\n",
    "    ax.set_xlabel('Tempo (ms)')\n",
    "\n",
    "    # label_gex = f'{gex}'+'S/cm²'\n",
    "    # parameters = r'g_{ex}' + f'={label_gex}' + '\\quad' + r'i_{ex}' + f'={amp}nA'+ '\\quad'+ 'PopRate'+f'={popRates:.2f}Hz'\n",
    "\n",
    "    # ax.set_title('Raster Plot \\n$'+parameters+'$', pad=20)\n",
    "    ax.scatter(spkt, spkid, s=0.8, color='black')\n",
    "    plt.xlim(ti, tf)\n",
    "    plt.ylim(0,len_net)\n",
    "    # plt.savefig(file+f'RasterPlot_{gex}_{amp}.png', dpi=600, bbox_inches='tight')\n",
    "    plt.savefig('../figures/teste_plotRaster',dpi=600,)\n",
    "    plt.show()\n",
    "    # print(f'Ploting raster plot gex: {gex} | amp: {amp}')\n",
    "    print(20*'-=')"
   ]
  },
  {
   "cell_type": "code",
   "execution_count": null,
   "metadata": {},
   "outputs": [],
   "source": []
  },
  {
   "cell_type": "code",
   "execution_count": 5,
   "metadata": {},
   "outputs": [
    {
     "data": {
      "image/png": "[encoded data removed]",
      "text/plain": [
       "<Figure size 1000x300 with 1 Axes>"
      ]
     },
     "metadata": {},
     "output_type": "display_data"
    },
    {
     "name": "stdout",
     "output_type": "stream",
     "text": [
      "-=-=-=-=-=-=-=-=-=-=-=-=-=-=-=-=-=-=-=-=\n"
     ]
    }
   ],
   "source": [
    "plotRaster(data)"
   ]
  },
  {
   "cell_type": "code",
   "execution_count": null,
   "metadata": {},
   "outputs": [],
   "source": []
  },
  {
   "cell_type": "code",
   "execution_count": null,
   "metadata": {},
   "outputs": [],
   "source": []
  },
  {
   "cell_type": "code",
   "execution_count": 6,
   "metadata": {},
   "outputs": [],
   "source": [
    "def get_numpy(data):\n",
    "    mapa = np.zeros((len(data['simData']['V_soma']), len(data['simData']['t'])))\n",
    "    t = np.array(data['simData']['t'])\n",
    "    for i, value in enumerate(data['simData']['V_soma'].values()):\n",
    "        mapa[i] = value\n",
    "    return t, mapa"
   ]
  },
  {
   "cell_type": "code",
   "execution_count": 7,
   "metadata": {},
   "outputs": [],
   "source": [
    "t_data, v_data = get_numpy(data)\n"
   ]
  },
  {
   "cell_type": "code",
   "execution_count": 8,
   "metadata": {},
   "outputs": [
    {
     "data": {
      "text/plain": [
       "20000"
      ]
     },
     "execution_count": 8,
     "metadata": {},
     "output_type": "execute_result"
    }
   ],
   "source": [
    "ti = len(data['simData']['t'])-20000\n",
    "ti"
   ]
  },
  {
   "cell_type": "code",
   "execution_count": 9,
   "metadata": {},
   "outputs": [],
   "source": [
    "v_sample = v_data[:, ti:]\n",
    "t_sample = t_data[ti:]"
   ]
  },
  {
   "cell_type": "code",
   "execution_count": 10,
   "metadata": {},
   "outputs": [],
   "source": [
    "def find_peaks(t_arr, v_arr, only_id=False):\n",
    "    \"\"\"\n",
    "    Encontra os picos em um sinal de forma de onda.\n",
    "\n",
    "    Args:\n",
    "        t_arr (array-like): Uma matriz de tempos correspondentes aos valores do sinal de forma de onda.\n",
    "        v_arr (array-like): Uma matriz de valores do sinal de forma de onda.\n",
    "        only_id (bool, optional): Indica se apenas os IDs dos picos devem ser retornados. O padrão é False.\n",
    "\n",
    "    Returns:\n",
    "        tuple or numpy.ndarray: Se only_id for False, retorna uma tupla contendo os IDs dos picos, tempos correspondentes e valores correspondentes. Se only_id for True, retorna apenas os IDs dos picos.\n",
    "    \"\"\"\n",
    "    peaks_id, _ = scipy.signal.find_peaks(v_arr, height=0)\n",
    "    t = t_arr[peaks_id]\n",
    "    v = v_arr[peaks_id]\n",
    "    if only_id:\n",
    "        peaks_id\n",
    "    else:\n",
    "        return peaks_id, t, v\n"
   ]
  },
  {
   "cell_type": "code",
   "execution_count": 39,
   "metadata": {},
   "outputs": [],
   "source": [
    "peaksmat, t_peaks = [], []  # listas para encontrar id e tempo dos picos\n",
    "for v in v_sample:\n",
    "    peaks_id, t_peak, v_peak = find_peaks(t_sample, v)\n",
    "    peaksmat.append(peaks_id)\n",
    "    t_peaks.append(t_peak)\n",
    "\n",
    "id_first_spk = min([min(peak) for peak in peaksmat]) # id primeiro spk\n",
    "id_last_spk = min([max(peak) for peak in peaksmat]) # id do primeiro dos ultimos spk"
   ]
  },
  {
   "cell_type": "code",
   "execution_count": 41,
   "metadata": {},
   "outputs": [
    {
     "data": {
      "image/png": "[encoded data removed]",
      "text/plain": [
       "<Figure size 1000x300 with 1 Axes>"
      ]
     },
     "metadata": {},
     "output_type": "display_data"
    }
   ],
   "source": [
    "fig, ax = plt.subplots(1,1, figsize=(10,3))\n",
    "fig.set_tight_layout(20)\n",
    "\n",
    "ax.spines['right'].set_visible(False)\n",
    "ax.spines['top'].set_visible(False)\n",
    "ax.set_ylabel('$n$-ésimo Neurônio')\n",
    "ax.set_xlabel('Tempo (ms)')\n",
    "\n",
    "ax.set_ylim(0, len(t_peaks))\n",
    "ax.set_xlim(ti, tf)\n",
    "ax.eventplot(t_peaks, color='black')\n",
    "plt.savefig('../figures/teste_plotRaster',dpi=600,)\n",
    "plt.show()"
   ]
  },
  {
   "cell_type": "code",
   "execution_count": null,
   "metadata": {},
   "outputs": [],
   "source": [
    "def plotRaster2(t_spikes):\n",
    "    fig, ax = plt.subplots(1,1, figsize=(10,3))\n",
    "    fig.set_tight_layout(20)\n",
    "\n",
    "    ax.spines['right'].set_visible(False)\n",
    "    ax.spines['top'].set_visible(False)\n",
    "    ax.set_ylabel('$n$-ésimo Neurônio')\n",
    "    ax.set_xlabel('Tempo (ms)')\n",
    "\n",
    "    ax.set_ylim(0, len(t_peaks))\n",
    "    ax.set_xlim(ti, tf)\n",
    "    ax.eventplot(t_peaks, color='black')\n",
    "    plt.savefig('../figures/teste_plotRaster',dpi=600,)\n",
    "    # plt.show()\n",
    "    "
   ]
  },
  {
   "attachments": {},
   "cell_type": "markdown",
   "metadata": {},
   "source": [
    "The phase neurons $\\phi_k(t)$ is: \n",
    "$$\\phi_k(t) = 2 \\pi m + 2 \\pi \\frac{t - t_{k,m}}{t_{k,m+1} - t_{k, m}}$$\n",
    "\n",
    "where $t_{k,m}$ is the time of the $m$-th spike of the neuron $k$, $t_{k,m} < t\n",
    "\\le t_{k,m+1}$.\n",
    "\n",
    "It is used to calculate the Global and Local Order parameters (GOP and LOP)."
   ]
  },
  {
   "cell_type": "code",
   "execution_count": 16,
   "metadata": {},
   "outputs": [],
   "source": [
    "def find_peaks(t_arr, v_arr, only_id=False):\n",
    "    \"\"\"\n",
    "    Encontra os picos em um sinal de forma de onda.\n",
    "\n",
    "    Args:\n",
    "        t_arr (array-like): Uma matriz de tempos correspondentes aos valores do sinal de forma de onda.\n",
    "        v_arr (array-like): Uma matriz de valores do sinal de forma de onda.\n",
    "        only_id (bool, optional): Indica se apenas os IDs dos picos devem ser retornados. O padrão é False.\n",
    "\n",
    "    Returns:\n",
    "        tuple or numpy.ndarray: Se only_id for False, retorna uma tupla contendo os IDs dos picos, tempos correspondentes e valores correspondentes. Se only_id for True, retorna apenas os IDs dos picos.\n",
    "    \"\"\"\n",
    "    peaks_id, _ = scipy.signal.find_peaks(v_arr, height=0)\n",
    "    t = t_arr[peaks_id]\n",
    "    v = v_arr[peaks_id]\n",
    "    if only_id:\n",
    "        peaks_id\n",
    "    else:\n",
    "        return peaks_id, t, v\n",
    "\n",
    "\n",
    "def phase_of_v(t_arr, v_arr):\n",
    "    \"\"\"\n",
    "    Calcula as fases de um sinal de forma de onda em relação aos picos.\n",
    "\n",
    "    Args:\n",
    "        t_arr (array-like): Uma matriz de tempos correspondentes aos valores do sinal de forma de onda.\n",
    "        v_arr (array-like): Uma matriz de valores do sinal de forma de onda.\n",
    "\n",
    "    Returns:\n",
    "        numpy.ndarray: Uma matriz contendo as fases calculadas para cada neurônio em relação aos picos.\n",
    "\n",
    "    Raises:\n",
    "        None\n",
    "    \"\"\"\n",
    "    peaksmat, t_peaks = [], [],  # listas para encontrar id e tempo dos picos\n",
    "    for v in v_arr:\n",
    "        peaks_id, t_peak, _ = find_peaks(t_arr, v)\n",
    "        peaksmat.append(peaks_id)\n",
    "        t_peaks.append(t_peak)\n",
    "    \n",
    "    id_first_spk = min([min(peak) for peak in peaksmat]) # id primeiro spk\n",
    "    id_last_spk = min([max(peak) for peak in peaksmat]) # id do primeiro dos ultimos spk \n",
    "\n",
    "    t_range = t_arr[id_first_spk:id_last_spk]  # tempo onde a phase é definida\n",
    "    phi = lambda t, t0, t1 : 2*np.pi*(t-t0)/(t1 - t0)  # calcular fase\n",
    "    phases = np.zeros((len(peaksmat), len(t_range)))  # phases dos n neurônios\n",
    "\n",
    "    # para cada id do pico n-esimo neuronio\n",
    "    for n, peak in enumerate(peaksmat):\n",
    "        # para cada ISI do neurônio\n",
    "        for t0, t1 in zip(t_arr[peak][:], t_arr[peak][1:]):\n",
    "            # para cada tempo i onde definimos a fase:\n",
    "            for i, t in enumerate(t_range):\n",
    "                if t0 < t <t1:\n",
    "                    # calcula a fase phi e adiciona no array\n",
    "                    phases[n,i] = phi(t,t0,t1)\n",
    "\n",
    "    return t_range, phases"
   ]
  },
  {
   "cell_type": "code",
   "execution_count": 17,
   "metadata": {},
   "outputs": [
    {
     "data": {
      "text/plain": [
       "array([[-55.43623733, -55.32146442, -55.20132117, ..., -57.95551444,\n",
       "        -57.95271289, -57.94991225],\n",
       "       [-58.36541152, -58.20018664, -58.02954808, ..., -57.96055001,\n",
       "        -57.95774683, -57.95494456],\n",
       "       [-55.55622958, -55.43967541, -55.31709691, ..., -57.9637386 ,\n",
       "        -57.96093439, -57.95813108],\n",
       "       ...,\n",
       "       [-63.57306993, -63.3267633 , -63.0790753 , ..., -57.94888391,\n",
       "        -57.9460845 , -57.94328601],\n",
       "       [-60.23344358, -60.04730712, -59.85901868, ..., -57.94460514,\n",
       "        -57.94180712, -57.93901001],\n",
       "       [-58.62962051, -58.471552  , -58.3089649 , ..., -57.9496139 ,\n",
       "        -57.94681426, -57.94401552]])"
      ]
     },
     "execution_count": 17,
     "metadata": {},
     "output_type": "execute_result"
    }
   ],
   "source": [
    "v_sample"
   ]
  },
  {
   "cell_type": "code",
   "execution_count": 18,
   "metadata": {},
   "outputs": [],
   "source": [
    "peaksmat, t_peaks = [], [],  # listas para encontrar id e tempo dos picos\n",
    "for v in v_sample:\n",
    "    peaks_id, t_peak, _ = find_peaks(t_sample, v)\n",
    "    peaksmat.append(peaks_id)\n",
    "    t_peaks.append(t_peak)"
   ]
  },
  {
   "cell_type": "code",
   "execution_count": 20,
   "metadata": {},
   "outputs": [],
   "source": [
    "id_first_spk = min([min(peak) for peak in peaksmat]) # id primeiro spk\n",
    "id_last_spk = min([max(peak) for peak in peaksmat]) # id do primeiro dos ultimos spk "
   ]
  },
  {
   "cell_type": "code",
   "execution_count": 10,
   "metadata": {},
   "outputs": [
    {
     "ename": "ValueError",
     "evalue": "min() arg is an empty sequence",
     "output_type": "error",
     "traceback": [
      "\u001b[0;31m---------------------------------------------------------------------------\u001b[0m",
      "\u001b[0;31mValueError\u001b[0m                                Traceback (most recent call last)",
      "Cell \u001b[0;32mIn[10], line 1\u001b[0m\n\u001b[0;32m----> 1\u001b[0m t_phase_smp, phase_smp \u001b[39m=\u001b[39m phase_of_v(t_sample, v_sample)\n",
      "Cell \u001b[0;32mIn[9], line 42\u001b[0m, in \u001b[0;36mphase_of_v\u001b[0;34m(t_sample, v_sample)\u001b[0m\n\u001b[1;32m     39\u001b[0m     peaksmat\u001b[39m.\u001b[39mappend(peaks_id)\n\u001b[1;32m     40\u001b[0m     t_peaks\u001b[39m.\u001b[39mappend(t_peak)\n\u001b[0;32m---> 42\u001b[0m id_first_spk \u001b[39m=\u001b[39m \u001b[39mmin\u001b[39m([\u001b[39mmin\u001b[39m(peak) \u001b[39mfor\u001b[39;00m peak \u001b[39min\u001b[39;00m peaksmat]) \u001b[39m# id primeiro spk\u001b[39;00m\n\u001b[1;32m     43\u001b[0m id_last_spk \u001b[39m=\u001b[39m \u001b[39mmin\u001b[39m([\u001b[39mmax\u001b[39m(peak) \u001b[39mfor\u001b[39;00m peak \u001b[39min\u001b[39;00m peaksmat]) \u001b[39m# id do primeiro dos ultimos spk \u001b[39;00m\n\u001b[1;32m     45\u001b[0m t_range \u001b[39m=\u001b[39m t_sample[id_first_spk:id_last_spk]  \u001b[39m# tempo onde a phase é definida\u001b[39;00m\n",
      "Cell \u001b[0;32mIn[9], line 42\u001b[0m, in \u001b[0;36m<listcomp>\u001b[0;34m(.0)\u001b[0m\n\u001b[1;32m     39\u001b[0m     peaksmat\u001b[39m.\u001b[39mappend(peaks_id)\n\u001b[1;32m     40\u001b[0m     t_peaks\u001b[39m.\u001b[39mappend(t_peak)\n\u001b[0;32m---> 42\u001b[0m id_first_spk \u001b[39m=\u001b[39m \u001b[39mmin\u001b[39m([\u001b[39mmin\u001b[39;49m(peak) \u001b[39mfor\u001b[39;00m peak \u001b[39min\u001b[39;00m peaksmat]) \u001b[39m# id primeiro spk\u001b[39;00m\n\u001b[1;32m     43\u001b[0m id_last_spk \u001b[39m=\u001b[39m \u001b[39mmin\u001b[39m([\u001b[39mmax\u001b[39m(peak) \u001b[39mfor\u001b[39;00m peak \u001b[39min\u001b[39;00m peaksmat]) \u001b[39m# id do primeiro dos ultimos spk \u001b[39;00m\n\u001b[1;32m     45\u001b[0m t_range \u001b[39m=\u001b[39m t_sample[id_first_spk:id_last_spk]  \u001b[39m# tempo onde a phase é definida\u001b[39;00m\n",
      "\u001b[0;31mValueError\u001b[0m: min() arg is an empty sequence"
     ]
    }
   ],
   "source": [
    "t_phase_smp, phase_smp = phase_of_v(t_sample, v_sample)"
   ]
  },
  {
   "cell_type": "code",
   "execution_count": null,
   "metadata": {},
   "outputs": [],
   "source": []
  },
  {
   "cell_type": "code",
   "execution_count": 13,
   "metadata": {},
   "outputs": [],
   "source": [
    "plt.figure()\n",
    "plt.plot(t_phase_smp, phase_smp[10], '--')\n",
    "plt.plot(t_phase_smp, phase_smp[50], '--')\n",
    "plt.plot(t_phase_smp, phase_smp[90], '--')\n",
    "plt.savefig('../figures/testFig.png',dpi=600,)"
   ]
  },
  {
   "cell_type": "code",
   "execution_count": 11,
   "metadata": {},
   "outputs": [
    {
     "data": {
      "text/plain": [
       "(100, 16640)"
      ]
     },
     "execution_count": 11,
     "metadata": {},
     "output_type": "execute_result"
    }
   ],
   "source": [
    "phase_smp.shape"
   ]
  },
  {
   "attachments": {},
   "cell_type": "markdown",
   "metadata": {},
   "source": [
    "# Global Order Parameter (GOP)\n",
    "\n",
    "$Z(t) = \\frac{1}{N} \\Big|\\sum_{j}^{N} \\text{exp}\\big(2 \\pi i \\phi_j(t)\\big)\\Big|,$"
   ]
  },
  {
   "attachments": {},
   "cell_type": "markdown",
   "metadata": {},
   "source": []
  },
  {
   "cell_type": "code",
   "execution_count": 15,
   "metadata": {},
   "outputs": [],
   "source": [
    "def kuramoto_param_global_order(spatial_phase):\n",
    "    \"\"\"\n",
    "    Calculates the global order parameter of Kuramoto for a set of spatial phases.\n",
    "\n",
    "    Args:\n",
    "        spatial_phase (list): List of spatial phases.\n",
    "\n",
    "    Returns:\n",
    "        float: Value of the global order parameter of Kuramoto.\n",
    "\n",
    "    \"\"\"\n",
    "    n = len(spatial_phase)\n",
    "    somatorio = 0\n",
    "    for j in range(0, n + 1):\n",
    "        if j == n or j == 0:\n",
    "            j = j % n\n",
    "        somatorio += np.exp(complex(0, spatial_phase[j]))\n",
    "    z = np.abs(somatorio) / n\n",
    "    return z"
   ]
  },
  {
   "cell_type": "code",
   "execution_count": 16,
   "metadata": {},
   "outputs": [
    {
     "data": {
      "text/plain": [
       "array([1.01      , 1.00999044, 1.00996179, ..., 0.07241552, 0.072098  ,\n",
       "       0.07186111])"
      ]
     },
     "execution_count": 16,
     "metadata": {},
     "output_type": "execute_result"
    }
   ],
   "source": [
    "z = np.zeros(phase_smp.shape[1])\n",
    "\n",
    "for i, spatial_phase in enumerate(phase_smp.T):\n",
    "    z[i] = kuramoto_param_global_order(spatial_phase)\n",
    "\n",
    "z"
   ]
  },
  {
   "cell_type": "code",
   "execution_count": 17,
   "metadata": {},
   "outputs": [],
   "source": [
    "plt.figure()\n",
    "plt.plot(z)\n",
    "plt.savefig('../figures/testFig.png',dpi=600,)"
   ]
  },
  {
   "cell_type": "code",
   "execution_count": 18,
   "metadata": {},
   "outputs": [],
   "source": [
    "def plot_GOP(spatial_phi, gop):\n",
    "\n",
    "    from matplotlib.ticker import FuncFormatter, MultipleLocator\n",
    "\n",
    "    fig, (ax1, ax2) = plt.subplots(ncols=1, nrows=2, figsize=(10,3),sharex=True, gridspec_kw = {'height_ratios':[2,1]})\n",
    "    n_neurons = np.arange(spatial_phi.shape[0])\n",
    "    t = np.arange(spatial_phi.shape[1])\n",
    "\n",
    "    formater = FuncFormatter(lambda val,pos: '{:.0g}$\\pi$'.format(val/np.pi) if val !=0 else '0')\n",
    "\n",
    "    tg, ig = np.meshgrid(n_neurons, t)\n",
    "    hm = ax1.pcolor(ig, tg, spatial_phi.T, cmap='gnuplot2_r')#, shading='auto')\n",
    "    cax = plt.axes([0.92, 0.4, 0.01, 0.5])\n",
    "    cbar = plt.colorbar(hm, ax=ax1, format=formater, cax=cax)\n",
    "    # cbar.set_label('$\\phi(t)$', rotation=0)\n",
    "    ax1.text(5100, 50, '$\\phi (t)$')\n",
    "    ax1.set_ylabel('$n^{th}$ Neuron')\n",
    "    ax1.set_xlim(4000,5000)\n",
    "    ax1.set_ylim(0,100)\n",
    "    # plt.savefig('./figures/YamadaModel_Space_param_cv',dpi=600,)\n",
    "    ax2.spines['top'].set_visible(False)\n",
    "    ax2.spines['right'].set_visible(False)\n",
    "    ax2.plot(gop, color='darkred')\n",
    "    ax2.set_xlim(4000,5000)\n",
    "    ax2.set_xlabel('Tempo (ms)')\n",
    "    ax2.set_ylabel('GOP$(t)$')\n",
    "\n",
    "    plt.show()"
   ]
  },
  {
   "attachments": {},
   "cell_type": "markdown",
   "metadata": {},
   "source": [
    "## Local Order Parameter (LOP)\n",
    "\n",
    "$$Z_j (t) = \\Big|\\frac{1}{2\\delta} \\sum_{j-k \\le \\delta}^{j+k} \\text{exp}[i \\phi_{k}(t)]\\Big|,$$\n",
    "\n",
    "such that $\\delta$ is the number of neighbors in one direction and $0\\le k <0.5$"
   ]
  },
  {
   "cell_type": "code",
   "execution_count": 12,
   "metadata": {},
   "outputs": [],
   "source": [
    "def kuramoto_param_local_order(spatial_phase, k):\n",
    "    \"\"\"\n",
    "    Calculates the Kuramoto parameter order for a given spatial phase distribution.\n",
    "\n",
    "    Args:\n",
    "        spatial_phase (numpy.ndarray): Array representing the spatial phase distribution of neurons.\n",
    "        k (int): Number of neighboring neurons to consider.\n",
    "\n",
    "    Returns:\n",
    "        numpy.ndarray: Array of Kuramoto parameter order values for each neuron.\n",
    "    \"\"\"\n",
    "    n = len(spatial_phase)\n",
    "    p = int(k/2)  # neurons in one direction\n",
    "    z = np.zeros_like(spatial_phase)\n",
    "\n",
    "    for i in range(n):\n",
    "        somatorio = 0\n",
    "        for vizinhos in range(i - p, i + p + 1):\n",
    "            if vizinhos == 0 or vizinhos == n:\n",
    "                j = n\n",
    "            else:\n",
    "                j = vizinhos % n\n",
    "            if j >= n:\n",
    "                j = j % n\n",
    "            somatorio += np.exp(complex(0, spatial_phase[j]))\n",
    "        z[i] = np.abs(somatorio / (int(2*p)+1))\n",
    "    return z\n"
   ]
  },
  {
   "cell_type": "code",
   "execution_count": 13,
   "metadata": {},
   "outputs": [
    {
     "data": {
      "text/plain": [
       "((16640, 100), (100, 16640))"
      ]
     },
     "execution_count": 13,
     "metadata": {},
     "output_type": "execute_result"
    }
   ],
   "source": [
    "lop = np.zeros_like(phase_smp.T)\n",
    "\n",
    "for i, spatial_phase in enumerate(phase_smp.T):\n",
    "    lop[i] = kuramoto_param_local_order(spatial_phase, k=4)\n",
    "\n",
    "lop.shape, phase_smp.shape"
   ]
  },
  {
   "cell_type": "code",
   "execution_count": 18,
   "metadata": {},
   "outputs": [],
   "source": [
    "def plot_LOP(t_phase_smp, spatial_phi, lop):\n",
    "    from matplotlib.ticker import FuncFormatter, MultipleLocator\n",
    "    formater = FuncFormatter(lambda val,pos: '{:.0g}$\\pi$'.format(val/np.pi) if val !=0 else '0')\n",
    "\n",
    "    fig, (ax1, ax2) = plt.subplots(ncols=1, nrows=2, figsize=(10,4),sharex=True)\n",
    "    n_neurons = np.arange(spatial_phi.shape[0])\n",
    "    t = t_phase_smp\n",
    "    tg, ig = np.meshgrid(n_neurons, t)\n",
    "    hm = ax1.pcolor(ig, tg, spatial_phi.T, cmap=cmap_phase)\n",
    "    cax = plt.axes([0.92, 0.4, 0.01, 0.5])\n",
    "    cbar = plt.colorbar(hm, ax=ax1, format=formater, cax=cax)\n",
    "    # cbar.set_label('$\\phi(t)$', rotation=0)\n",
    "    ax1.text(5100, 50, '$\\phi (t)$')\n",
    "    # ax1.set_title('$g_{ex}='+f'{gex}$ S/cm²' + 5*' '+ '$I='+f'{amp}$ nA')\n",
    "    ax1.set_ylabel('$n^{th}$ Neuron')\n",
    "    ax1.set_ylim(0,100)\n",
    "\n",
    "    # plt.savefig('./figures/YamadaModel_Space_param_cv',dpi=600,)\n",
    "    tg, ig = np.meshgrid(n_neurons, t)\n",
    "    hm2 = ax2.pcolor(ig, tg, lop, cmap='gnuplot_r')\n",
    "    cax = plt.axes([0.92, 0.0, 0.01, 0.5])\n",
    "    cbar = plt.colorbar(hm2, ax=ax2, cax=cax)\n",
    "    ax2.set_ylabel('$n^{th}$ Neuron')\n",
    "    ax2.set_ylim(0,100)\n",
    "    ax2.set_xlabel('Tempo (ms)')\n",
    "    ax1.text(5100, 50, 'LOP$(t)$')\n",
    "    plt.savefig('../figures/testFig.png',dpi=600,)\n",
    "    # plt.savefig(file+f'PlotGOP_{gex}_{amp}.png', dpi=600, bbox_inches='tight')"
   ]
  },
  {
   "cell_type": "code",
   "execution_count": 19,
   "metadata": {},
   "outputs": [
    {
     "ename": "KeyboardInterrupt",
     "evalue": "",
     "output_type": "error",
     "traceback": [
      "\u001b[0;31m---------------------------------------------------------------------------\u001b[0m",
      "\u001b[0;31mKeyboardInterrupt\u001b[0m                         Traceback (most recent call last)",
      "Cell \u001b[0;32mIn[19], line 1\u001b[0m\n\u001b[0;32m----> 1\u001b[0m plot_LOP(t_phase_smp, phase_smp, lop)\n",
      "Cell \u001b[0;32mIn[18], line 9\u001b[0m, in \u001b[0;36mplot_LOP\u001b[0;34m(t_phase_smp, spatial_phi, lop)\u001b[0m\n\u001b[1;32m      7\u001b[0m t \u001b[39m=\u001b[39m t_phase_smp\n\u001b[1;32m      8\u001b[0m tg, ig \u001b[39m=\u001b[39m np\u001b[39m.\u001b[39mmeshgrid(n_neurons, t)\n\u001b[0;32m----> 9\u001b[0m hm \u001b[39m=\u001b[39m ax1\u001b[39m.\u001b[39;49mpcolor(ig, tg, spatial_phi\u001b[39m.\u001b[39;49mT, cmap\u001b[39m=\u001b[39;49mcmap_phase)\n\u001b[1;32m     10\u001b[0m cax \u001b[39m=\u001b[39m plt\u001b[39m.\u001b[39maxes([\u001b[39m0.92\u001b[39m, \u001b[39m0.4\u001b[39m, \u001b[39m0.01\u001b[39m, \u001b[39m0.5\u001b[39m])\n\u001b[1;32m     11\u001b[0m cbar \u001b[39m=\u001b[39m plt\u001b[39m.\u001b[39mcolorbar(hm, ax\u001b[39m=\u001b[39max1, \u001b[39mformat\u001b[39m\u001b[39m=\u001b[39mformater, cax\u001b[39m=\u001b[39mcax)\n",
      "File \u001b[0;32m~/Documents/trabalhos/chimeras/.venv/lib/python3.10/site-packages/matplotlib/__init__.py:1412\u001b[0m, in \u001b[0;36m_preprocess_data.<locals>.inner\u001b[0;34m(ax, data, *args, **kwargs)\u001b[0m\n\u001b[1;32m   1409\u001b[0m \u001b[39m@functools\u001b[39m\u001b[39m.\u001b[39mwraps(func)\n\u001b[1;32m   1410\u001b[0m \u001b[39mdef\u001b[39;00m \u001b[39minner\u001b[39m(ax, \u001b[39m*\u001b[39margs, data\u001b[39m=\u001b[39m\u001b[39mNone\u001b[39;00m, \u001b[39m*\u001b[39m\u001b[39m*\u001b[39mkwargs):\n\u001b[1;32m   1411\u001b[0m     \u001b[39mif\u001b[39;00m data \u001b[39mis\u001b[39;00m \u001b[39mNone\u001b[39;00m:\n\u001b[0;32m-> 1412\u001b[0m         \u001b[39mreturn\u001b[39;00m func(ax, \u001b[39m*\u001b[39;49m\u001b[39mmap\u001b[39;49m(sanitize_sequence, args), \u001b[39m*\u001b[39;49m\u001b[39m*\u001b[39;49mkwargs)\n\u001b[1;32m   1414\u001b[0m     bound \u001b[39m=\u001b[39m new_sig\u001b[39m.\u001b[39mbind(ax, \u001b[39m*\u001b[39margs, \u001b[39m*\u001b[39m\u001b[39m*\u001b[39mkwargs)\n\u001b[1;32m   1415\u001b[0m     auto_label \u001b[39m=\u001b[39m (bound\u001b[39m.\u001b[39marguments\u001b[39m.\u001b[39mget(label_namer)\n\u001b[1;32m   1416\u001b[0m                   \u001b[39mor\u001b[39;00m bound\u001b[39m.\u001b[39mkwargs\u001b[39m.\u001b[39mget(label_namer))\n",
      "File \u001b[0;32m~/Documents/trabalhos/chimeras/.venv/lib/python3.10/site-packages/matplotlib/axes/_axes.py:5838\u001b[0m, in \u001b[0;36mAxes.pcolor\u001b[0;34m(self, shading, alpha, norm, cmap, vmin, vmax, *args, **kwargs)\u001b[0m\n\u001b[1;32m   5834\u001b[0m     kwargs[\u001b[39m'\u001b[39m\u001b[39mantialiaseds\u001b[39m\u001b[39m'\u001b[39m] \u001b[39m=\u001b[39m \u001b[39mFalse\u001b[39;00m\n\u001b[1;32m   5836\u001b[0m kwargs\u001b[39m.\u001b[39msetdefault(\u001b[39m'\u001b[39m\u001b[39msnap\u001b[39m\u001b[39m'\u001b[39m, \u001b[39mFalse\u001b[39;00m)\n\u001b[0;32m-> 5838\u001b[0m collection \u001b[39m=\u001b[39m mcoll\u001b[39m.\u001b[39;49mPolyCollection(\n\u001b[1;32m   5839\u001b[0m     verts, array\u001b[39m=\u001b[39;49mC, cmap\u001b[39m=\u001b[39;49mcmap, norm\u001b[39m=\u001b[39;49mnorm, alpha\u001b[39m=\u001b[39;49malpha, \u001b[39m*\u001b[39;49m\u001b[39m*\u001b[39;49mkwargs)\n\u001b[1;32m   5840\u001b[0m collection\u001b[39m.\u001b[39m_scale_norm(norm, vmin, vmax)\n\u001b[1;32m   5841\u001b[0m \u001b[39mself\u001b[39m\u001b[39m.\u001b[39m_pcolor_grid_deprecation_helper()\n",
      "File \u001b[0;32m~/Documents/trabalhos/chimeras/.venv/lib/python3.10/site-packages/matplotlib/collections.py:1189\u001b[0m, in \u001b[0;36mPolyCollection.__init__\u001b[0;34m(self, verts, sizes, closed, **kwargs)\u001b[0m\n\u001b[1;32m   1187\u001b[0m \u001b[39msuper\u001b[39m()\u001b[39m.\u001b[39m\u001b[39m__init__\u001b[39m(\u001b[39m*\u001b[39m\u001b[39m*\u001b[39mkwargs)\n\u001b[1;32m   1188\u001b[0m \u001b[39mself\u001b[39m\u001b[39m.\u001b[39mset_sizes(sizes)\n\u001b[0;32m-> 1189\u001b[0m \u001b[39mself\u001b[39;49m\u001b[39m.\u001b[39;49mset_verts(verts, closed)\n\u001b[1;32m   1190\u001b[0m \u001b[39mself\u001b[39m\u001b[39m.\u001b[39mstale \u001b[39m=\u001b[39m \u001b[39mTrue\u001b[39;00m\n",
      "File \u001b[0;32m~/Documents/trabalhos/chimeras/.venv/lib/python3.10/site-packages/matplotlib/collections.py:1224\u001b[0m, in \u001b[0;36mPolyCollection.set_verts\u001b[0;34m(self, verts, closed)\u001b[0m\n\u001b[1;32m   1222\u001b[0m     codes[\u001b[39m0\u001b[39m] \u001b[39m=\u001b[39m mpath\u001b[39m.\u001b[39mPath\u001b[39m.\u001b[39mMOVETO\n\u001b[1;32m   1223\u001b[0m     codes[\u001b[39m-\u001b[39m\u001b[39m1\u001b[39m] \u001b[39m=\u001b[39m mpath\u001b[39m.\u001b[39mPath\u001b[39m.\u001b[39mCLOSEPOLY\n\u001b[0;32m-> 1224\u001b[0m     \u001b[39mself\u001b[39m\u001b[39m.\u001b[39m_paths \u001b[39m=\u001b[39m [mpath\u001b[39m.\u001b[39mPath(xy, codes) \u001b[39mfor\u001b[39;00m xy \u001b[39min\u001b[39;00m verts_pad]\n\u001b[1;32m   1225\u001b[0m     \u001b[39mreturn\u001b[39;00m\n\u001b[1;32m   1227\u001b[0m \u001b[39mself\u001b[39m\u001b[39m.\u001b[39m_paths \u001b[39m=\u001b[39m []\n",
      "File \u001b[0;32m~/Documents/trabalhos/chimeras/.venv/lib/python3.10/site-packages/matplotlib/collections.py:1224\u001b[0m, in \u001b[0;36m<listcomp>\u001b[0;34m(.0)\u001b[0m\n\u001b[1;32m   1222\u001b[0m     codes[\u001b[39m0\u001b[39m] \u001b[39m=\u001b[39m mpath\u001b[39m.\u001b[39mPath\u001b[39m.\u001b[39mMOVETO\n\u001b[1;32m   1223\u001b[0m     codes[\u001b[39m-\u001b[39m\u001b[39m1\u001b[39m] \u001b[39m=\u001b[39m mpath\u001b[39m.\u001b[39mPath\u001b[39m.\u001b[39mCLOSEPOLY\n\u001b[0;32m-> 1224\u001b[0m     \u001b[39mself\u001b[39m\u001b[39m.\u001b[39m_paths \u001b[39m=\u001b[39m [mpath\u001b[39m.\u001b[39;49mPath(xy, codes) \u001b[39mfor\u001b[39;00m xy \u001b[39min\u001b[39;00m verts_pad]\n\u001b[1;32m   1225\u001b[0m     \u001b[39mreturn\u001b[39;00m\n\u001b[1;32m   1227\u001b[0m \u001b[39mself\u001b[39m\u001b[39m.\u001b[39m_paths \u001b[39m=\u001b[39m []\n",
      "File \u001b[0;32m~/Documents/trabalhos/chimeras/.venv/lib/python3.10/site-packages/matplotlib/path.py:130\u001b[0m, in \u001b[0;36mPath.__init__\u001b[0;34m(self, vertices, codes, _interpolation_steps, closed, readonly)\u001b[0m\n\u001b[1;32m    101\u001b[0m \u001b[39m\u001b[39m\u001b[39m\"\"\"\u001b[39;00m\n\u001b[1;32m    102\u001b[0m \u001b[39mCreate a new path with the given vertices and codes.\u001b[39;00m\n\u001b[1;32m    103\u001b[0m \n\u001b[0;32m   (...)\u001b[0m\n\u001b[1;32m    127\u001b[0m \u001b[39m    and codes as read-only arrays.\u001b[39;00m\n\u001b[1;32m    128\u001b[0m \u001b[39m\"\"\"\u001b[39;00m\n\u001b[1;32m    129\u001b[0m vertices \u001b[39m=\u001b[39m _to_unmasked_float_array(vertices)\n\u001b[0;32m--> 130\u001b[0m _api\u001b[39m.\u001b[39;49mcheck_shape((\u001b[39mNone\u001b[39;49;00m, \u001b[39m2\u001b[39;49m), vertices\u001b[39m=\u001b[39;49mvertices)\n\u001b[1;32m    132\u001b[0m \u001b[39mif\u001b[39;00m codes \u001b[39mis\u001b[39;00m \u001b[39mnot\u001b[39;00m \u001b[39mNone\u001b[39;00m:\n\u001b[1;32m    133\u001b[0m     codes \u001b[39m=\u001b[39m np\u001b[39m.\u001b[39masarray(codes, \u001b[39mself\u001b[39m\u001b[39m.\u001b[39mcode_type)\n",
      "File \u001b[0;32m~/Documents/trabalhos/chimeras/.venv/lib/python3.10/site-packages/matplotlib/_api/__init__.py:152\u001b[0m, in \u001b[0;36mcheck_shape\u001b[0;34m(_shape, **kwargs)\u001b[0m\n\u001b[1;32m    149\u001b[0m \u001b[39mfor\u001b[39;00m k, v \u001b[39min\u001b[39;00m kwargs\u001b[39m.\u001b[39mitems():\n\u001b[1;32m    150\u001b[0m     data_shape \u001b[39m=\u001b[39m v\u001b[39m.\u001b[39mshape\n\u001b[0;32m--> 152\u001b[0m     \u001b[39mif\u001b[39;00m \u001b[39mlen\u001b[39m(target_shape) \u001b[39m!=\u001b[39m \u001b[39mlen\u001b[39m(data_shape) \u001b[39mor\u001b[39;00m \u001b[39many\u001b[39m(\n\u001b[1;32m    153\u001b[0m             t \u001b[39mnot\u001b[39;00m \u001b[39min\u001b[39;00m [s, \u001b[39mNone\u001b[39;00m]\n\u001b[1;32m    154\u001b[0m             \u001b[39mfor\u001b[39;00m t, s \u001b[39min\u001b[39;00m \u001b[39mzip\u001b[39m(target_shape, data_shape)\n\u001b[1;32m    155\u001b[0m     ):\n\u001b[1;32m    156\u001b[0m         dim_labels \u001b[39m=\u001b[39m \u001b[39miter\u001b[39m(itertools\u001b[39m.\u001b[39mchain(\n\u001b[1;32m    157\u001b[0m             \u001b[39m'\u001b[39m\u001b[39mMNLIJKLH\u001b[39m\u001b[39m'\u001b[39m,\n\u001b[1;32m    158\u001b[0m             (\u001b[39mf\u001b[39m\u001b[39m\"\u001b[39m\u001b[39mD\u001b[39m\u001b[39m{\u001b[39;00mi\u001b[39m}\u001b[39;00m\u001b[39m\"\u001b[39m \u001b[39mfor\u001b[39;00m i \u001b[39min\u001b[39;00m itertools\u001b[39m.\u001b[39mcount())))\n\u001b[1;32m    159\u001b[0m         text_shape \u001b[39m=\u001b[39m \u001b[39m\"\u001b[39m\u001b[39m, \u001b[39m\u001b[39m\"\u001b[39m\u001b[39m.\u001b[39mjoin((\u001b[39mstr\u001b[39m(n)\n\u001b[1;32m    160\u001b[0m                                 \u001b[39mif\u001b[39;00m n \u001b[39mis\u001b[39;00m \u001b[39mnot\u001b[39;00m \u001b[39mNone\u001b[39;00m\n\u001b[1;32m    161\u001b[0m                                 \u001b[39melse\u001b[39;00m \u001b[39mnext\u001b[39m(dim_labels)\n\u001b[1;32m    162\u001b[0m                                 \u001b[39mfor\u001b[39;00m n \u001b[39min\u001b[39;00m target_shape))\n",
      "\u001b[0;31mKeyboardInterrupt\u001b[0m: "
     ]
    }
   ],
   "source": [
    "plot_LOP(t_phase_smp, phase_smp, lop)"
   ]
  },
  {
   "cell_type": "code",
   "execution_count": 16,
   "metadata": {},
   "outputs": [],
   "source": [
    "n_neurons = np.arange(lop.shape[0])\n",
    "t = np.arange(lop.shape[1])\n",
    "\n",
    "tg, ig = np.meshgrid(n_neurons, t)\n",
    "\n",
    "\n",
    "fig, ax = plt.subplots()\n",
    "hm = ax.pcolor(ig, tg, lop.T, cmap='gnuplot2_r')\n",
    "cbar = plt.colorbar(hm, ax=ax)\n",
    "plt.savefig('../figures/testePlotLOP.png', dpi=600, bbox_inches='tight')\n"
   ]
  },
  {
   "cell_type": "code",
   "execution_count": 14,
   "metadata": {},
   "outputs": [],
   "source": [
    "fig, ax = plt.subplots(ncols=1, nrows=1, figsize=(10,4))\n",
    "n_neurons = np.arange(lop.shape[0])\n",
    "t = np.arange(lop.shape[1])\n",
    "\n",
    "tg, ig = np.meshgrid(n_neurons, t)\n",
    "hm = ax1.pcolor(ig, tg, lop.T, cmap='gnuplot2_r')\n",
    "cax = plt.axes([0.92, 0.4, 0.01, 0.5])\n",
    "cbar = plt.colorbar(hm, ax=ax, cax=cax)\n",
    "ax.text(5100, 50, 'LOP$(t)$')\n",
    "ax.set_ylabel('$n^{th}$ Neuron')\n",
    "ax.set_xlim(4000,5000)\n",
    "ax.set_ylim(0,100)\n"
   ]
  },
  {
   "attachments": {},
   "cell_type": "markdown",
   "metadata": {},
   "source": [
    "# 3) Chimera States\n",
    "find the network's parameters where the chimera state is visible.\n",
    "\n",
    "param global and local order of kuramoto\n",
    "\n",
    "heatmap of phase $m^{th}$ neuron"
   ]
  },
  {
   "attachments": {},
   "cell_type": "markdown",
   "metadata": {},
   "source": [
    "# 4) Heatmaps of parameters\n",
    "\n",
    "standart deviation and mean of chemra's parameters ."
   ]
  },
  {
   "attachments": {},
   "cell_type": "markdown",
   "metadata": {},
   "source": []
  },
  {
   "cell_type": "code",
   "execution_count": null,
   "metadata": {},
   "outputs": [],
   "source": []
  }
 ],
 "metadata": {
  "kernelspec": {
   "display_name": ".venv",
   "language": "python",
   "name": "python3"
  },
  "language_info": {
   "codemirror_mode": {
    "name": "ipython",
    "version": 3
   },
   "file_extension": ".py",
   "mimetype": "text/x-python",
   "name": "python",
   "nbconvert_exporter": "python",
   "pygments_lexer": "ipython3",
   "version": "3.10.6"
  },
  "orig_nbformat": 4
 },
 "nbformat": 4,
 "nbformat_minor": 2
}
