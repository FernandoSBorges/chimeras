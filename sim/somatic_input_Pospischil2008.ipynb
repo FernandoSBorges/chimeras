{
 "cells": [
  {
   "cell_type": "code",
   "execution_count": 1,
   "metadata": {},
   "outputs": [
    {
     "data": {
      "text/html": [
       "<style>.container { width:100% !important; }</style>"
      ],
      "text/plain": [
       "<IPython.core.display.HTML object>"
      ]
     },
     "metadata": {},
     "output_type": "display_data"
    }
   ],
   "source": [
    "from IPython.display import display, HTML\n",
    "display(HTML(\"<style>.container { width:100% !important; }</style>\"))"
   ]
  },
  {
   "cell_type": "code",
   "execution_count": 2,
   "metadata": {},
   "outputs": [],
   "source": [
    "import json\n",
    "import numpy as np\n",
    "import os\n",
    "import sys\n",
    "from matplotlib import pyplot as plt\n",
    "\n",
    "rootFolder = os.getcwd()"
   ]
  },
  {
   "cell_type": "code",
   "execution_count": 3,
   "metadata": {},
   "outputs": [
    {
     "name": "stdout",
     "output_type": "stream",
     "text": [
      "/home/fernando/chimeras/sim\n",
      "Mod files: \"mod/mod/cadecay_destexhe.mod\" \"mod/mod/HH_traub.mod\" \"mod/mod/IL_gutnick.mod\" \"mod/mod/IM_cortex.mod\" \"mod/mod/IT_huguenard.mod\"\n",
      "\n",
      " -> \u001b[32mCompiling\u001b[0m mod_func.cpp\n",
      " => \u001b[32mLINKING\u001b[0m shared library ./libnrnmech.so\n",
      "Successfully created x86_64/special\n"
     ]
    }
   ],
   "source": [
    "!nrnivmodl mod"
   ]
  },
  {
   "cell_type": "code",
   "execution_count": 4,
   "metadata": {},
   "outputs": [
    {
     "name": "stdout",
     "output_type": "stream",
     "text": [
      "Creating a generic HH cell from Pospischil2008 template\n",
      "Creating a generic HH cell from Pospischil2008 template\n",
      "Creating a generic HH cell from Pospischil2008 template\n",
      "Creating a generic HH cell from Pospischil2008 template\n",
      "Creating a generic HH cell from Pospischil2008 template\n",
      "\n",
      "Start time:  2023-03-20 15:10:32.437366\n",
      "\n",
      "Creating network of 5 cell populations on 1 hosts...\n",
      "  Number of cells on node 0: 5 \n",
      "  Done; cell creation time = 0.00 s.\n",
      "Making connections...\n",
      "  Number of connections on node 0: 0 \n",
      "  Done; cell connection time = 0.00 s.\n",
      "Adding stims...\n",
      "  Number of stims on node 0: 5 \n",
      "  Done; cell stims creation time = 0.00 s.\n",
      "Recording 10 traces of 2 types on node 0\n",
      "0.0s\n",
      "\n",
      "Running simulation using NEURON for 5000.0 ms...\n",
      "0.5s\n",
      "1.0s\n",
      "1.5s\n",
      "2.0s\n",
      "2.5s\n",
      "3.0s\n",
      "3.5s\n",
      "4.0s\n",
      "4.5s\n",
      "  Done; run time = 0.83 s; real-time ratio: 5.99.\n",
      "\n",
      "Gathering data...\n",
      "  Done; gather time = 0.01 s.\n",
      "\n",
      "Analyzing...\n",
      "  Cells: 5\n",
      "  Connections: 0 (0.00 per cell)\n",
      "  Spikes: 2 (0.08 Hz)\n",
      "  Simulated time: 5.0 s; 1 workers\n",
      "  Run time: 0.83 s\n",
      "   PY_RS : 0.000 Hz\n",
      "   IN_FS : 0.200 Hz\n",
      "   PY_LTS : 0.000 Hz\n",
      "   PY_IB : 0.000 Hz\n",
      "   PY_IBR : 0.200 Hz\n",
      "Warning: data won't be saved. No output format specified (consider sim.cfg.savePickle, sim.cfg.saveJson etc.)\n",
      "Plotting recorded cell traces ... trace\n",
      "  Done; plotting time = 0.30 s\n",
      "\n",
      "Total time = 1.15 s\n"
     ]
    },
    {
     "data": {
      "image/png": "[encoded data removed]",
      "text/plain": [
       "<Figure size 864x576 with 5 Axes>"
      ]
     },
     "metadata": {
      "needs_background": "light"
     },
     "output_type": "display_data"
    }
   ],
   "source": [
    "from netpyne import sim\n",
    "from netpyne import specs\n",
    "import pickle\n",
    "\n",
    "cfg = specs.SimConfig()     \n",
    "\n",
    "cfg.duration = 5000.0 ## Duration of the sim, in ms  \n",
    "cfg.dt = 0.025\n",
    "# ~ cfg.seeds = {'conn': 4321, 'stim': 1234, 'loc': 4321} \n",
    "cfg.hParams = {'celsius': 34, 'v_init': -65}  \n",
    "cfg.verbose = False\n",
    "cfg.createNEURONObj = True\n",
    "cfg.createPyStruct = True\n",
    "cfg.cvode_active = False\n",
    "cfg.cvode_atol = 1e-6\n",
    "cfg.cache_efficient = True\n",
    "cfg.printRunTime = 0.5\n",
    "\n",
    "cfg.includeParamsLabel = False\n",
    "cfg.printPopAvgRates = True\n",
    "cfg.checkErrors = False\n",
    "\n",
    "allpops = ['PY_RS','IN_FS','PY_LTS','PY_IB','PY_IBR']\n",
    "\n",
    "cfg.recordCells = allpops  # which cells to record from\n",
    "cfg.recordTraces = {'V_soma': {'sec':'soma', 'loc':0.5, 'var':'v'}}  ## Dict with traces to record\n",
    "cfg.recordStim = True\n",
    "cfg.recordTime = True\n",
    "cfg.recordStep = 0.1            \n",
    "\n",
    "cfg.simLabel = 'Pospischil2008_teste'\n",
    "cfg.saveFolder = '.'\n",
    "# cfg.filename =                \t## Set file output name\n",
    "cfg.savePickle = False         \t## Save pkl file\n",
    "cfg.saveJson = False           \t## Save json file\n",
    "cfg.saveDataInclude = ['simConfig', 'netParams', 'simData'] ## \n",
    "cfg.backupCfgFile = None \t\t##  \n",
    "cfg.gatherOnlySimData = False\t##  \n",
    "cfg.saveCellSecs = False\t\t\t##  \n",
    "cfg.saveCellConns = False\t\t##  \n",
    "\n",
    "#------------------------------------------------------------------------------\n",
    "# Analysis and plotting \n",
    "#------------------------------------------------------------------------------\n",
    "cfg.analysis['plotTraces'] = {'include': allpops, 'saveFig': True, 'showFig': False, 'oneFigPer':'trace', 'overlay':False, 'figSize':(12, 8), 'fontSize':6}\n",
    "\n",
    "#------------------------------------------------------------------------------\n",
    "# Current inputs \n",
    "#------------------------------------------------------------------------------\n",
    "cfg.addIClamp = 1\n",
    "\n",
    "delaystim = 1000\n",
    "durationstim = 2000\n",
    "step1_current = 20.0\n",
    "        \n",
    "cfg.IClamp1 = {'pop': 'PY_RS', 'sec': 'soma', 'loc': 0.5, 'start': delaystim, 'dur': durationstim, 'amp': step1_current}\n",
    "cfg.IClamp2 = {'pop': 'IN_FS', 'sec': 'soma', 'loc': 0.5, 'start': delaystim, 'dur': durationstim, 'amp': step1_current}\n",
    "cfg.IClamp3 = {'pop': 'PY_LTS', 'sec': 'soma', 'loc': 0.5, 'start': delaystim, 'dur': durationstim, 'amp': step1_current}\n",
    "cfg.IClamp4 = {'pop': 'PY_IB', 'sec': 'soma', 'loc': 0.5, 'start': delaystim, 'dur': durationstim, 'amp': step1_current}\n",
    "cfg.IClamp5 = {'pop': 'PY_IBR', 'sec': 'soma', 'loc': 0.5, 'start': delaystim, 'dur': durationstim, 'amp': step1_current}\n",
    "\n",
    "\n",
    "netParams = specs.NetParams()   # object of class NetParams to store the network parameters\n",
    "\n",
    "#------------------------------------------------------------------------------\n",
    "# Cell parameters\n",
    "#------------------------------------------------------------------------------\n",
    "for cellName in ['PY_RS', 'IN_FS', 'PY_LTS', 'PY_IB', 'PY_IBR']:\n",
    "    cellRule = netParams.importCellParams(label=cellName + '_rule', somaAtOrigin=False,\n",
    "        conds={'cellType': cellName, 'cellModel': 'HH_full'},\n",
    "        fileName='cellwrapper_Pospischil2008.py',\n",
    "        cellName='loadCell',\n",
    "        cellInstance = True)\n",
    "\n",
    "# PY_RS\n",
    "netParams.cellParams['PY_RS_rule']['secs']['soma']['geom']['L'] =  96.0\n",
    "netParams.cellParams['PY_RS_rule']['secs']['soma']['mechs']['pas']['g'] = 0.001\n",
    "\n",
    "\n",
    "# IN_FS\n",
    "netParams.cellParams['IN_FS_rule']['secs']['soma']['geom']['L'] =  96.0\n",
    "netParams.cellParams['IN_FS_rule']['secs']['soma']['mechs']['hh2']['gnabar'] = 0.007\n",
    "\n",
    "# PY_IBR\n",
    "netParams.cellParams['PY_IBR_rule']['secs']['soma']['geom']['L'] =  96.0\n",
    "netParams.cellParams['PY_IBR_rule']['secs']['soma']['mechs']['hh2']['gnabar'] = 0.007\n",
    "netParams.cellParams['PY_IBR_rule']['secs']['soma']['mechs']['pas']['g'] = 0.001\n",
    "\n",
    "\n",
    "#------------------------------------------------------------------------------\n",
    "# Population parameters\n",
    "#------------------------------------------------------------------------------\n",
    "\n",
    "netParams.popParams['PY_RS'] = {'cellType': 'PY_RS', 'cellModel': 'HH_full', 'numCells': 1} \n",
    "netParams.popParams['IN_FS'] = {'cellType': 'IN_FS', 'cellModel': 'HH_full', 'numCells': 1} \n",
    "netParams.popParams['PY_LTS'] = {'cellType': 'PY_LTS', 'cellModel': 'HH_full', 'numCells': 1} \n",
    "netParams.popParams['PY_IB'] = {'cellType': 'PY_IB', 'cellModel': 'HH_full', 'numCells': 1} \n",
    "netParams.popParams['PY_IBR'] = {'cellType': 'PY_IBR', 'cellModel': 'HH_full', 'numCells': 1} \n",
    "\n",
    "#------------------------------------------------------------------------------\n",
    "# Current inputs (IClamp)\n",
    "#------------------------------------------------------------------------------\n",
    "if cfg.addIClamp:\n",
    "     for key in [k for k in dir(cfg) if k.startswith('IClamp')]:\n",
    "        params = getattr(cfg, key, None)\n",
    "        [pop,sec,loc,start,dur,amp] = [params[s] for s in ['pop','sec','loc','start','dur','amp']]\n",
    "\n",
    "        #cfg.analysis['plotTraces']['include'].append((pop,0))  # record that pop\n",
    "\n",
    "        # add stim source\n",
    "        netParams.stimSourceParams[key] = {'type': 'IClamp', 'delay': start, 'dur': dur, 'amp': amp}\n",
    "\n",
    "        # connect stim source to target\n",
    "        netParams.stimTargetParams[key+'_'+pop] =  {\n",
    "            'source': key, \n",
    "            'conds': {'pop': pop},\n",
    "            'sec': sec, \n",
    "            'loc': loc}\n",
    "\n",
    "sim.createSimulateAnalyze(netParams, cfg)"
   ]
  },
  {
   "cell_type": "code",
   "execution_count": 5,
   "metadata": {},
   "outputs": [
    {
     "name": "stdout",
     "output_type": "stream",
     "text": [
      "Plotting recorded cell traces ... trace\n"
     ]
    },
    {
     "data": {
      "image/png": "[encoded data removed]",
      "text/plain": [
       "<Figure size 864x288 with 1 Axes>"
      ]
     },
     "metadata": {
      "needs_background": "light"
     },
     "output_type": "display_data"
    }
   ],
   "source": [
    "sim.analysis.plotTraces(include=cfg.recordCells, overlay=True, oneFigPer='trace', figSize=(12, 4), fontSize=9, saveFig=True);"
   ]
  },
  {
   "cell_type": "code",
   "execution_count": 6,
   "metadata": {},
   "outputs": [
    {
     "data": {
      "text/plain": [
       "{L: 96.0, nseg: 1, diam: 96.0, Ra: 100.0, cm: 1.0, _repr_mimebundle_: {}}"
      ]
     },
     "execution_count": 6,
     "metadata": {},
     "output_type": "execute_result"
    }
   ],
   "source": [
    "netParams.cellParams['PY_RS_rule']['secs']['soma']['geom']"
   ]
  },
  {
   "cell_type": "code",
   "execution_count": 7,
   "metadata": {},
   "outputs": [
    {
     "data": {
      "text/plain": [
       "0.003"
      ]
     },
     "execution_count": 7,
     "metadata": {},
     "output_type": "execute_result"
    }
   ],
   "source": [
    "netParams.cellParams['PY_RS_rule']['secs']['soma']['mechs']['hh2']['gnabar']"
   ]
  },
  {
   "cell_type": "code",
   "execution_count": 8,
   "metadata": {},
   "outputs": [
    {
     "data": {
      "text/plain": [
       "0.001"
      ]
     },
     "execution_count": 8,
     "metadata": {},
     "output_type": "execute_result"
    }
   ],
   "source": [
    "netParams.cellParams['PY_RS_rule']['secs']['soma']['mechs']['pas']['g']"
   ]
  },
  {
   "cell_type": "code",
   "execution_count": 9,
   "metadata": {},
   "outputs": [
    {
     "data": {
      "text/plain": [
       "{ca: {e: 132.4579341637009, i: 5e-05, o: 2.0}, k: {e: -77.0, i: 54.4, o: 2.5}, na: {e: 50.0, i: 10.0, o: 140.0}, _repr_mimebundle_: {}}"
      ]
     },
     "execution_count": 9,
     "metadata": {},
     "output_type": "execute_result"
    }
   ],
   "source": [
    "netParams.cellParams['PY_RS_rule']['secs']['soma']['ions']"
   ]
  },
  {
   "cell_type": "code",
   "execution_count": 10,
   "metadata": {},
   "outputs": [
    {
     "data": {
      "text/plain": [
       "{cellType: 'PY_RS', cellModel: 'HH_full', _repr_mimebundle_: {}}"
      ]
     },
     "execution_count": 10,
     "metadata": {},
     "output_type": "execute_result"
    }
   ],
   "source": [
    "netParams.cellParams['PY_RS_rule']['conds']"
   ]
  },
  {
   "cell_type": "code",
   "execution_count": null,
   "metadata": {},
   "outputs": [],
   "source": []
  }
 ],
 "metadata": {
  "kernelspec": {
   "display_name": "Python 3 (ipykernel)",
   "language": "python",
   "name": "python3"
  },
  "language_info": {
   "codemirror_mode": {
    "name": "ipython",
    "version": 3
   },
   "file_extension": ".py",
   "mimetype": "text/x-python",
   "name": "python",
   "nbconvert_exporter": "python",
   "pygments_lexer": "ipython3",
   "version": "3.8.12"
  }
 },
 "nbformat": 4,
 "nbformat_minor": 4
}
