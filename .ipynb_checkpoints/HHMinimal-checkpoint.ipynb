{
 "cells": [
  {
   "cell_type": "markdown",
   "metadata": {
    "id": "JEa9BGzH4RyS"
   },
   "source": [
    "Artigo: [Minimal Hodgkin-Huxley type models for different classes of cortical and thalamic neurons](https://link.springer.com/article/10.1007/s00422-008-0263-8)"
   ]
  },
  {
   "cell_type": "code",
   "execution_count": 1,
   "metadata": {
    "colab": {
     "base_uri": "https://localhost:8080/",
     "height": 1000
    },
    "id": "Cdhn7tpmMbwL",
    "outputId": "83e11d0f-0699-41e8-a900-e6ae60a4bda1"
   },
   "outputs": [],
   "source": [
    "# !pip install neurom neuron\n",
    "# !pip install netpyne"
   ]
  },
  {
   "cell_type": "code",
   "execution_count": 3,
   "metadata": {
    "id": "AoZrH_7jQvJo"
   },
   "outputs": [],
   "source": [
    "import matplotlib.pyplot as pyplot\n",
    "# import seaborn as sns\n",
    "\n",
    "import os\n",
    "import zipfile\n",
    "import urllib \n",
    "import neurom\n",
    "import pandas as pd\n",
    "import numpy as np\n",
    "\n",
    "from matplotlib import pyplot as plt\n",
    "\n",
    "# sns.set_context('talk')"
   ]
  },
  {
   "cell_type": "code",
   "execution_count": 4,
   "metadata": {
    "colab": {
     "base_uri": "https://localhost:8080/"
    },
    "id": "B3wqvvXqQ4yY",
    "outputId": "b63a42cd-4688-4212-abc1-217b84b8c828"
   },
   "outputs": [
    {
     "name": "stdout",
     "output_type": "stream",
     "text": [
      "--2023-03-13 10:23:53--  https://senselab.med.yale.edu/modeldb/eavBinDown.cshtml?o=123623&a=23&mime=application/zip\n",
      "Resolving proxy.uepg.br (proxy.uepg.br)... 177.101.17.17, 177.101.26.18\n",
      "Connecting to proxy.uepg.br (proxy.uepg.br)|177.101.17.17|:8080... connected.\n",
      "Proxy tunneling failed: Proxy Authentication RequiredUnable to establish SSL connection.\n"
     ]
    },
    {
     "ename": "FileNotFoundError",
     "evalue": "[Errno 2] No such file or directory: 'eavBinDown.cshtml?o=123623&a=23&mime=application%2Fzip'",
     "output_type": "error",
     "traceback": [
      "\u001b[0;31m---------------------------------------------------------------------------\u001b[0m",
      "\u001b[0;31mFileNotFoundError\u001b[0m                         Traceback (most recent call last)",
      "Input \u001b[0;32mIn [4]\u001b[0m, in \u001b[0;36m<cell line: 2>\u001b[0;34m()\u001b[0m\n\u001b[1;32m      1\u001b[0m get_ipython()\u001b[38;5;241m.\u001b[39msystem(\u001b[38;5;124m\"\u001b[39m\u001b[38;5;124mwget \u001b[39m\u001b[38;5;124m'\u001b[39m\u001b[38;5;124mhttps://senselab.med.yale.edu/modeldb/eavBinDown.cshtml?o=123623&a=23&mime=application/zip\u001b[39m\u001b[38;5;124m'\u001b[39m\u001b[38;5;124m\"\u001b[39m)\n\u001b[0;32m----> 2\u001b[0m \u001b[38;5;28;01mwith\u001b[39;00m \u001b[43mzipfile\u001b[49m\u001b[38;5;241;43m.\u001b[39;49m\u001b[43mZipFile\u001b[49m\u001b[43m(\u001b[49m\u001b[38;5;124;43m'\u001b[39;49m\u001b[38;5;124;43meavBinDown.cshtml?o=123623&a=23&mime=application\u001b[39;49m\u001b[38;5;132;43;01m%2F\u001b[39;49;00m\u001b[38;5;124;43mzip\u001b[39;49m\u001b[38;5;124;43m'\u001b[39;49m\u001b[43m,\u001b[49m\u001b[43m \u001b[49m\u001b[38;5;124;43m'\u001b[39;49m\u001b[38;5;124;43mr\u001b[39;49m\u001b[38;5;124;43m'\u001b[39;49m\u001b[43m)\u001b[49m \u001b[38;5;28;01mas\u001b[39;00m zip_file:\n\u001b[1;32m      3\u001b[0m     zip_file\u001b[38;5;241m.\u001b[39mextractall(\u001b[38;5;124m'\u001b[39m\u001b[38;5;124m.\u001b[39m\u001b[38;5;124m'\u001b[39m)\n\u001b[1;32m      4\u001b[0m os\u001b[38;5;241m.\u001b[39mchdir(\u001b[38;5;124m'\u001b[39m\u001b[38;5;124mPospischilEtAl2008\u001b[39m\u001b[38;5;124m'\u001b[39m)\n",
      "File \u001b[0;32m~/.conda/envs/p38/lib/python3.8/zipfile.py:1251\u001b[0m, in \u001b[0;36mZipFile.__init__\u001b[0;34m(self, file, mode, compression, allowZip64, compresslevel, strict_timestamps)\u001b[0m\n\u001b[1;32m   1249\u001b[0m \u001b[38;5;28;01mwhile\u001b[39;00m \u001b[38;5;28;01mTrue\u001b[39;00m:\n\u001b[1;32m   1250\u001b[0m     \u001b[38;5;28;01mtry\u001b[39;00m:\n\u001b[0;32m-> 1251\u001b[0m         \u001b[38;5;28mself\u001b[39m\u001b[38;5;241m.\u001b[39mfp \u001b[38;5;241m=\u001b[39m \u001b[43mio\u001b[49m\u001b[38;5;241;43m.\u001b[39;49m\u001b[43mopen\u001b[49m\u001b[43m(\u001b[49m\u001b[43mfile\u001b[49m\u001b[43m,\u001b[49m\u001b[43m \u001b[49m\u001b[43mfilemode\u001b[49m\u001b[43m)\u001b[49m\n\u001b[1;32m   1252\u001b[0m     \u001b[38;5;28;01mexcept\u001b[39;00m \u001b[38;5;167;01mOSError\u001b[39;00m:\n\u001b[1;32m   1253\u001b[0m         \u001b[38;5;28;01mif\u001b[39;00m filemode \u001b[38;5;129;01min\u001b[39;00m modeDict:\n",
      "\u001b[0;31mFileNotFoundError\u001b[0m: [Errno 2] No such file or directory: 'eavBinDown.cshtml?o=123623&a=23&mime=application%2Fzip'"
     ]
    }
   ],
   "source": [
    "!wget 'https://senselab.med.yale.edu/modeldb/eavBinDown.cshtml?o=123623&a=23&mime=application/zip'\n",
    "with zipfile.ZipFile('eavBinDown.cshtml?o=123623&a=23&mime=application%2Fzip', 'r') as zip_file:\n",
    "    zip_file.extractall('.')\n",
    "os.chdir('PospischilEtAl2008')\n",
    "!nrnivmodl\n",
    "\n",
    "with open('HHCellMinimalFile.py','w') as hhCellMinimal:\n",
    "    hhCellMinimal.write('''\n",
    "# Arquivo python que contem as classes de células HH e HH Minimal\n",
    "import neuron as nrn # NEURON simulator\n",
    "class Cell(object):\n",
    "    \"\"\"\n",
    "    Classe célula\n",
    "    \"\"\"\n",
    "    def __init__(self):\n",
    "        self.synlist = []\n",
    "        self.createSections()\n",
    "        self.buildTopology()\n",
    "        self.defineGeometry()\n",
    "        self.defineBiophysics()\n",
    "        self.createSynapses()\n",
    "        self.nclist = []\n",
    "\n",
    "    def createSections(self):\n",
    "        pass\n",
    "\n",
    "    def buildTopology(self):\n",
    "        pass\n",
    "\n",
    "    def defineGeometry(self):\n",
    "        pass\n",
    "\n",
    "    def defineBiophysics(self):\n",
    "        pass\n",
    "\n",
    "    def createSynapses(self):\n",
    "        \"\"\"Add an exponentially decaying synapse \"\"\"\n",
    "        synsoma = nrn.h.ExpSyn(self.soma(0.5))\n",
    "        synsoma.tau = 2\n",
    "        synsoma.e = 0\n",
    "        syndend = nrn.h.ExpSyn(self.dend(0.5))\n",
    "        syndend.tau = 2\n",
    "        syndend.e = 0\n",
    "        self.synlist.append(synsoma) # synlist is defined in Cell\n",
    "        self.synlist.append(syndend) # synlist is defined in Cell\n",
    "\n",
    "\n",
    "    def createNetcon(self, thresh=10):\n",
    "        \"\"\" created netcon to record spikes \"\"\"\n",
    "        nc = nrn.h.NetCon(self.soma(0.5)._ref_v, None, sec = self.soma)\n",
    "        nc.threshold = thresh\n",
    "        return nc\n",
    "\n",
    "\n",
    "class HHCellClass(Cell):\n",
    "    \"\"\"\n",
    "    HH cell: A soma with active channels\n",
    "    - Neuronio de HH com canais.\n",
    "    \"\"\"\n",
    "    def createSections(self):\n",
    "        \"\"\"Create the sections of the cell.\"\"\"\n",
    "        self.soma = nrn.h.Section(name='soma', cell=self)\n",
    "        self.dend = nrn.h.Section(name='dend', cell=self)\n",
    "\n",
    "    def defineGeometry(self):\n",
    "        \"\"\"Set the 3D geometry of the cell.\"\"\"\n",
    "        self.soma.L = 18.8 # Length of a section in microns.\n",
    "        self.soma.diam = 18.8 # Diameter range variable of a section in microns.\n",
    "        self.soma.Ra = 123.0 # Axial resistivity in ohm-cm.\n",
    "\n",
    "        self.dend.L = 200.0\n",
    "        self.dend.diam = 1.0\n",
    "        self.dend.Ra = 100.0\n",
    "\n",
    "    def defineBiophysics(self):\n",
    "        \"\"\"Assign the membrane properties across the cell.\"\"\"\n",
    "        # Insert active Hodgkin-Huxley current in the soma\n",
    "        self.soma.insert('hh')\n",
    "        self.soma.gnabar_hh = 0.12  # Sodium conductance in S/cm2\n",
    "        self.soma.gkbar_hh = 0.036  # Potassium conductance in S/cm2\n",
    "        self.soma.gl_hh = 0.003    # Leak conductance in S/cm2\n",
    "        self.soma.el_hh = -70       # Reversal potential in mV\n",
    "\n",
    "        self.dend.insert('pas')\n",
    "        self.dend.g_pas = 0.001  # Passive conductance in S/cm2\n",
    "        self.dend.e_pas = -65    # Leak reversal potential mV\n",
    "        self.dend.nseg = 1000\n",
    "\n",
    "    def buildTopology(self):\n",
    "        self.dend.connect(self.soma(1))\n",
    "        \n",
    "        \n",
    "class HHCellMinimalClass(Cell):\n",
    "    \"\"\"\n",
    "    Célula do modelo minimal HH\n",
    "    \"\"\"\n",
    "    def createSections(self):\n",
    "        \"\"\"Create the sections of the cell.\"\"\"\n",
    "        self.soma = nrn.h.Section(name='soma', cell=self)\n",
    "        self.dend = nrn.h.Section(name='dend', cell=self)\n",
    "    \n",
    "    \n",
    "    def defineGeometry(self):\n",
    "        \"\"\"Set the 3D geometry of the cell.\"\"\"\n",
    "        self.soma.L = 18.8 # Length of a section in microns.\n",
    "        self.soma.diam = 18.8 # Diameter range variable of a section in microns.\n",
    "        self.soma.Ra = 123.0 # Axial resistivity in ohm-cm.\n",
    "\n",
    "        self.dend.L = 200.0\n",
    "        self.dend.diam = 1.0\n",
    "        self.dend.Ra = 100.0\n",
    "        \n",
    "    def defineBiophysics(self):\n",
    "        \"\"\"Assign the membrane properties across the cell.\"\"\"\n",
    "        \n",
    "        # specified in \"2.2.1 Sodium and potassium currents to generate action potentials\"\n",
    "        ## https://doi.org/10.1007/s00422-008-0263-8\n",
    "        self.soma.insert('hh2'); # Hodgin-Huxley INa and IK self.soma.insert('hh'); \n",
    "        self.soma.ek = -100 # potassium reversal potential \n",
    "        self.soma.ena = 50 # sodium reversal potential \n",
    "        self.soma.vtraub_hh2 = -55 # Resting Vm, BJ was -55\n",
    "        self.soma.gnabar_hh2 = 0.05 # McCormick=15 muS, thal was 0.09\n",
    "        self.soma.gkbar_hh2 = 0.005 # spike duration of pyr cells\n",
    "        \n",
    "        # I_m\n",
    "        # specified in \"2.2.2 Slow potassium current for spike-frequency adaptation\" of \n",
    "        ## https://doi.org/10.1007/s00422-008-0263-8\n",
    "        self.soma.insert('im'); # M current Yamada et al. (1989)\n",
    "        self.taumax_im = 1000\n",
    "        self.soma.gkbar_im = 3e-5 # specific to LTS pyr cell\n",
    "        \n",
    "        # I_L calcium decay\n",
    "        # specified in \"2.2.3 Calcium currents to generate bursting\" of \n",
    "        ## https://doi.org/10.1007/s00422-008-0263-8\n",
    "        self.soma.insert('cad') # calcium decay (Destexhe et al. 1996a, b; see Huguenard and McCormick 1992)\n",
    "        self.soma.depth_cad = 1 # McCormick= 0.1 um\n",
    "        self.soma.taur_cad = 5 # McCormick=1 ms !!!\n",
    "        self.soma.cainf_cad = 2.4e-4 # McCormick=0\n",
    "        self.soma.kt_cad = 0 # no pump\n",
    "        \n",
    "        # I_L the low-threshold Ca^(2+)\n",
    "        # specified in \"2.2.3 Calcium currents to generate bursting\" of \n",
    "        ## https://doi.org/10.1007/s00422-008-0263-8\n",
    "        self.soma.insert('ical'); # IL current (Reuveni et al. model, Nernst)  \n",
    "        self.soma.cai = 2.4e-4 \n",
    "        self.soma.cao = 2 \n",
    "        self.soma.eca = 120 \n",
    "        self.soma.gcabar_ical = 2.2e-4\n",
    "        \n",
    "        # I_T\n",
    "        # specified in \"2.2.3 Calcium currents to generate bursting\" of \n",
    "        ## https://doi.org/10.1007/s00422-008-0263-8\n",
    "        self.soma.insert('it'); #// IT current (Destexhe et al. 1998;)\n",
    "        self.soma.cai = 2.4e-4 \n",
    "        self.soma.cao = 2 \n",
    "        self.eca = 120 \n",
    "        self.soma.gcabar_it = 0.0004 #// specific to LTS pyr cell\n",
    "        \n",
    "    \n",
    "    def createSynapses(self):\n",
    "        \"\"\"Add an exponentially decaying synapse \"\"\"\n",
    "        synsoma = nrn.h.ExpSyn(self.soma(0.5))\n",
    "        synsoma.tau = 2\n",
    "        synsoma.e = 0\n",
    "        syndend = nrn.h.ExpSyn(self.dend(0.5))\n",
    "        syndend.tau = 2\n",
    "        syndend.e = 0\n",
    "        self.synlist.append(synsoma) # synlist is defined in Cell\n",
    "        self.synlist.append(syndend) # synlist is defined in Cell\n",
    "\n",
    "\n",
    "    def createNetcon(self, thresh=10):\n",
    "        \"\"\" created netcon to record spikes \"\"\"\n",
    "        nc = nrn.h.NetCon(self.soma(0.5)._ref_v, None, sec = self.soma)\n",
    "        nc.threshold = thresh\n",
    "        return nc\n",
    "\n",
    "    def buildTopology(self):\n",
    "        self.dend.connect(self.soma(1))\n",
    "    ''')"
   ]
  },
  {
   "cell_type": "markdown",
   "metadata": {
    "id": "tmYp9odOv2SO"
   },
   "source": [
    "# Rede "
   ]
  },
  {
   "cell_type": "code",
   "execution_count": null,
   "metadata": {
    "id": "EgF-PfWmNzy3"
   },
   "outputs": [],
   "source": [
    "from netpyne import specs\n",
    "\n",
    "###############################################################################\n",
    "# NETWORK PARAMETERS\n",
    "###############################################################################\n",
    "\n",
    "netParams = specs.NetParams()     # object of class NetParams to store the network parameters\n",
    "\n",
    "netParams.sizeX = 100             # x-dimension (horizontal length) size in um\n",
    "netParams.sizeY = 1000            # y-dimension (vertical height or cortical depth) size in um\n",
    "netParams.sizeZ = 100             # z-dimension (horizontal length) size in um\n",
    "netParams.propVelocity = 100.0    # propagation velocity (um/ms)\n",
    "netParams.probLengthConst = 150.0 # length constant for conn probability (um)"
   ]
  },
  {
   "cell_type": "code",
   "execution_count": null,
   "metadata": {
    "id": "Yqy2xWhYNzpn"
   },
   "outputs": [],
   "source": [
    "cellRule = netParams.importCellParams(\n",
    "    label='PYR_HH_minimal', \n",
    "    conds={'cellModel': 'HH_minimal'},\n",
    "    fileName='HHCellMinimalFile.py', \n",
    "    cellName='HHCellMinimalClass', \n",
    "    importSynMechs=True,\n",
    "    )\n",
    "\n"
   ]
  },
  {
   "cell_type": "code",
   "execution_count": null,
   "metadata": {
    "colab": {
     "base_uri": "https://localhost:8080/"
    },
    "id": "KQGGOJVROBMS",
    "outputId": "64366f1e-53f5-4c7d-8f1a-4935f99c4ba4"
   },
   "outputs": [
    {
     "data": {
      "text/plain": [
       "{PYR_HH_minimal: {conds: {cellModel: 'HH_minimal'}, secs: {soma: {geom: {L: 18.8, nseg: 1, diam: 18.8, Ra: 123.0, cm: 1.0}, topol: {}, mechs: {cad: {depth: 1.0, taur: 5.0, cainf: 0.00024, kt: 0.0, kd: 0.0}, hh2: {gnabar: 0.05, gkbar: 0.005, vtraub: -55.0}, ical: {gcabar: 0.00022}, im: {gkbar: 3e-05}, it: {gcabar: 0.0004, shift: 2.0}}, ions: {ca: {e: 120.0, i: 0.00024, o: 2.0}, k: {e: -100.0, i: 54.4, o: 2.5}, na: {e: 50.0, i: 10.0, o: 140.0}}}, dend: {geom: {L: 200.0, nseg: 1, diam: 1.0, Ra: 100.0, cm: 1.0}, topol: {parentSec: 'soma', parentX: 1.0, childX: 0.0}, mechs: {}}}, secLists: {SectionList[0]: [], SectionList[1]: []}, globals: {}}}"
      ]
     },
     "execution_count": 7,
     "metadata": {},
     "output_type": "execute_result"
    }
   ],
   "source": [
    "netParams.cellParams"
   ]
  },
  {
   "cell_type": "code",
   "execution_count": null,
   "metadata": {
    "colab": {
     "base_uri": "https://localhost:8080/"
    },
    "id": "ETqHu6xpTOgO",
    "outputId": "f24a0ff0-30f7-48f7-d3dc-db6e06301a09"
   },
   "outputs": [
    {
     "name": "stdout",
     "output_type": "stream",
     "text": [
      "Tipos de células:\n"
     ]
    },
    {
     "data": {
      "text/plain": [
       "dict_keys(['PYR_HH_minimal'])"
      ]
     },
     "execution_count": 8,
     "metadata": {},
     "output_type": "execute_result"
    }
   ],
   "source": [
    "print('Tipos de células:')\n",
    "dict(netParams.cellParams).keys()"
   ]
  },
  {
   "cell_type": "code",
   "execution_count": null,
   "metadata": {
    "id": "vDHoIsxBQ-BP"
   },
   "outputs": [],
   "source": [
    "# Population parameters\n",
    "netParams.popParams['HH_m_1'] = {'cellType': 'PYR', 'cellModel': 'HH_minimal', 'numCells': 10}      # add dict with params for this pop\n",
    "netParams.popParams['HH_m_2'] = {'cellType': 'PYR', 'cellModel': 'HH_minimal', 'numCells': 10}      # add dict with params for this pop\n",
    "netParams.popParams['HH_m_3'] = {'cellType': 'PYR', 'cellModel': 'HH_minimal', 'numCells': 10}      # add dict with params for this pop\n",
    "netParams.popParams['HH_m_4'] = {'cellType': 'PYR', 'cellModel': 'HH_minimal', 'numCells': 10}      # add dict with params for this pop\n",
    "netParams.popParams['HH_m_5'] = {'cellType': 'PYR', 'cellModel': 'HH_minimal', 'numCells': 10}      # add dict with params for this pop\n",
    "netParams.popParams['HH_m_6'] = {'cellType': 'PYR', 'cellModel': 'HH_minimal', 'numCells': 10}      # add dict with params for this pop\n",
    "netParams.popParams['HH_m_7'] = {'cellType': 'PYR', 'cellModel': 'HH_minimal', 'numCells': 10}      # add dict with params for this pop\n",
    "netParams.popParams['HH_m_8'] = {'cellType': 'PYR', 'cellModel': 'HH_minimal', 'numCells': 10}      # add dict with params for this pop\n",
    "netParams.popParams['HH_m_9'] = {'cellType': 'PYR', 'cellModel': 'HH_minimal', 'numCells': 10}      # add dict with params for this pop\n",
    "netParams.popParams['HH_m_10'] = {'cellType': 'PYR', 'cellModel': 'HH_minimal', 'numCells': 10}      # add dict with params for this pop\n",
    "\n",
    "\n",
    "# Synaptic mechanism parameters\n",
    "netParams.synMechParams['exc'] = {'mod': 'Exp2Syn', 'tau1': 0.1, 'tau2': 1.0, 'e': 0}\n",
    "netParams.synMechParams['inh'] = {'mod': 'Exp2Syn', 'tau1': 0.1, 'tau2': 1.0, 'e': -80}\n",
    "\n",
    "# Stimulation parameters\n",
    "netParams.stimSourceParams['bkg'] = {'type': 'NetStim', 'rate': 30, 'noise': 0.05}\n",
    "netParams.stimTargetParams['bkg->all'] = {'source': 'bkg', 'conds': {'cellType': 'PYR'},\n",
    "                                            'weight': 0.01, 'delay': 1, 'synMech': 'exc'}\n",
    "\n",
    "# Connetions parameters\n",
    "for i in range(1,11):\n",
    "    netParams.connParams[f'HH_m_{i}->HH_m_{i}'] = {\n",
    "        'preConds': {'pop': f'HH_m_{i}'}, 'postConds': {'pop': f'HH_m_{i}'}, \n",
    "        'probability': 1.0 ,                  # probability of connection\n",
    "        'weight': '0.005*post_ynorm',         # synaptic weight\n",
    "        'delay': 'dist_3D/propVelocity',      # transmission delay (ms)\n",
    "        'synMech': 'exc'}                     # synaptic mechanism\n",
    "\n",
    "netParams.connParams['E->all'] = {\n",
    "  'preConds': {'cellType': 'PYR'}, 'postConds': {'cellType': 'PYR'}, \n",
    "  'probability': 0.25 ,                  # probability of connection\n",
    "  'weight': '0.005*post_ynorm',         # synaptic weight\n",
    "  'delay': 'dist_3D/propVelocity',      # transmission delay (ms)\n",
    "  'synMech': 'exc'}                     # synaptic mechanism\n",
    "\n",
    "  "
   ]
  },
  {
   "cell_type": "code",
   "execution_count": null,
   "metadata": {
    "colab": {
     "base_uri": "https://localhost:8080/"
    },
    "id": "4v8-GWBy8uoy",
    "outputId": "8c7491a5-1b3b-4725-b977-6c9eff33caf5"
   },
   "outputs": [
    {
     "name": "stdout",
     "output_type": "stream",
     "text": [
      "Tipos de conexões:\n"
     ]
    },
    {
     "data": {
      "text/plain": [
       "dict_keys(['HH_m_1->HH_m_1', 'HH_m_2->HH_m_2', 'HH_m_3->HH_m_3', 'HH_m_4->HH_m_4', 'HH_m_5->HH_m_5', 'HH_m_6->HH_m_6', 'HH_m_7->HH_m_7', 'HH_m_8->HH_m_8', 'HH_m_9->HH_m_9', 'HH_m_10->HH_m_10', 'E->all'])"
      ]
     },
     "execution_count": 10,
     "metadata": {},
     "output_type": "execute_result"
    }
   ],
   "source": [
    "print('Tipos de conexões:')\n",
    "\n",
    "dict(netParams.connParams).keys()"
   ]
  },
  {
   "cell_type": "code",
   "execution_count": null,
   "metadata": {
    "id": "muEvcd6rOddc"
   },
   "outputs": [],
   "source": [
    "###############################################################################\n",
    "# SIMULATION PARAMETERS\n",
    "###############################################################################\n",
    "simConfig = specs.SimConfig()  # object of class SimConfig to store simulation configuration\n",
    "\n",
    "# Simulation options\n",
    "simConfig.duration = 5000        # Duration of the simulation, in ms\n",
    "simConfig.dt = 0.05                # Internal integration timestep to use\n",
    "simConfig.verbose = False           # Show detailed messages\n",
    "simConfig.recordTraces = {'V_soma':{'sec':'soma','loc':0.5,'var':'v'}}  # Dict with traces to record\n",
    "simConfig.recordStep = 1            # Step size in ms to save data (eg. V traces, LFP, etc)\n",
    "simConfig.recordCells = ['all']\n",
    "simConfig.filename = 'model_output' # Set file output name\n",
    "simConfig.savePickle = False        # Save params, network and sim output to pickle file\n",
    "\n",
    "simConfig.analysis['plot2Dnet'] = {'saveFig': 'plot_D2Net', 'figSize':(8, 6)}  # plot 2D cell positions and connections\n",
    "simConfig.analysis['plotSpikeHist'] = {'saveFig': 'plot_SpikeHist','include': 'allCells', 'figSize':(10, 4)}\n",
    "simConfig.analysis['plotRaster'] = {'saveFig': 'plot_plotRaster', 'include': 'allCells', 'figSize':(8, 6)}\n"
   ]
  },
  {
   "cell_type": "code",
   "execution_count": null,
   "metadata": {
    "colab": {
     "base_uri": "https://localhost:8080/"
    },
    "id": "XtiMOqyuOhji",
    "outputId": "18837656-f49f-48cd-feb5-aed623ba51eb"
   },
   "outputs": [
    {
     "name": "stdout",
     "output_type": "stream",
     "text": [
      "\n",
      "Start time:  2023-03-13 12:32:50.124309\n",
      "\n",
      "Creating network of 10 cell populations on 1 hosts...\n",
      "  Number of cells on node 0: 100 \n",
      "  Done; cell creation time = 0.05 s.\n",
      "Making connections...\n",
      "  Number of connections on node 0: 3183 \n",
      "  Number of synaptic contacts on node 0: 3406 \n",
      "  Done; cell connection time = 0.83 s.\n",
      "Adding stims...\n",
      "  Number of stims on node 0: 100 \n",
      "  Done; cell stims creation time = 0.01 s.\n",
      "Recording 100 traces of 1 types on node 0\n",
      "\n",
      "Running simulation using NEURON for 5000.0 ms...\n",
      "  Done; run time = 23.90 s; real-time ratio: 0.21.\n",
      "\n",
      "Gathering data...\n",
      "  Done; gather time = 0.29 s.\n",
      "\n",
      "Analyzing...\n",
      "  Cells: 100\n",
      "  Connections: 3283 (32.83 per cell)\n",
      "  Synaptic contacts: 3506 (35.06 per cell)\n",
      "  Spikes: 8798 (17.60 Hz)\n",
      "  Simulated time: 5.0 s; 1 workers\n",
      "  Run time: 23.90 s\n",
      "Warning: data won't be saved. No output format specified (consider sim.cfg.savePickle, sim.cfg.saveJson etc.)\n",
      "Plotting 2D representation of network cell locations and connections...\n",
      "Preparing spike data...\n",
      "Plotting spike histogram...\n",
      "Preparing spike data...\n",
      "Plotting raster...\n",
      "  Done; plotting time = 5.93 s\n",
      "\n",
      "Total time = 31.03 s\n"
     ]
    }
   ],
   "source": [
    "###############################################################################\n",
    "# EXECUTION CODE (via netpyne)\n",
    "###############################################################################\n",
    "from netpyne import sim\n",
    "\n",
    "# Create network and run simulation\n",
    "sim.initialize(                     # create network object and set cfg and net params\n",
    "        simConfig = simConfig,          # pass simulation config and network params as arguments\n",
    "        netParams = netParams)\n",
    "sim.net.createPops()                # instantiate network populations\n",
    "sim.net.createCells()               # instantiate network cells based on defined populations\n",
    "\n",
    "\n",
    "\n",
    "sim.net.connectCells()              # create connections between cells based on params\n",
    "sim.net.addStims()                  # add stimulation\n",
    "sim.setupRecording()                # setup variables to record for each cell (spikes, V traces, etc)\n",
    "sim.runSim()                        # run parallel Neuron simulation\n",
    "sim.gatherData()                    # gather spiking data and cell info from each node\n",
    "sim.saveData()                      # save params, cell info and sim output to file (pickle,mat,txt,etc)\n",
    "sim.analysis.plotData()             # plot spike raster\n"
   ]
  },
  {
   "cell_type": "code",
   "execution_count": null,
   "metadata": {
    "colab": {
     "base_uri": "https://localhost:8080/"
    },
    "id": "qPPVfy0tbJn_",
    "outputId": "cb5dad5b-d4da-4fb6-9b6c-bf9560f046e6"
   },
   "outputs": [
    {
     "data": {
      "text/plain": [
       "dict_keys(['spkt', 'spkid', 'V_soma', 't'])"
      ]
     },
     "execution_count": 13,
     "metadata": {},
     "output_type": "execute_result"
    }
   ],
   "source": [
    "sim.simData.keys()"
   ]
  },
  {
   "cell_type": "code",
   "execution_count": null,
   "metadata": {
    "id": "tikCApaCbttc"
   },
   "outputs": [],
   "source": [
    "spkt = np.array(sim.simData['spkt'].to_python())\n",
    "spkid = np.array(sim.simData['spkid'].to_python())"
   ]
  },
  {
   "cell_type": "code",
   "execution_count": null,
   "metadata": {
    "id": "VrKNjBoLb066"
   },
   "outputs": [],
   "source": [
    "plt.figure(figsize=(14,6))\n",
    "sns.scatterplot(y=spkid[-4000:], x = spkt[-4000:], s=2.1, color='black')\n",
    "plt.xlabel(r'time ($ms$)', fontsize=18)\n",
    "plt.ylabel('Cells index', fontsize=18)\n",
    "plt.show()"
   ]
  },
  {
   "cell_type": "code",
   "execution_count": null,
   "metadata": {
    "colab": {
     "base_uri": "https://localhost:8080/",
     "height": 265
    },
    "id": "EdtfLi_qVTLj",
    "outputId": "3aa7ee21-e4a7-45b2-b7f3-d494ef7cac43"
   },
   "outputs": [
    {
     "data": {
      "image/png": "[encoded data removed]",
      "text/plain": [
       "<Figure size 432x288 with 1 Axes>"
      ]
     },
     "metadata": {
      "needs_background": "light"
     },
     "output_type": "display_data"
    }
   ],
   "source": [
    "%matplotlib inline\n",
    "V0 = np.array(sim.simData['V_soma'][f'cell_{20}'].to_python())\n",
    "t = np.array(sim.simData['t'].to_python())\n",
    "\n",
    "plt.figure()\n",
    "plt.ylim(-120, 80)\n",
    "sns.lineplot(x = t[-200:], y=V0[-200:])\n",
    "plt.show()"
   ]
  },
  {
   "cell_type": "code",
   "execution_count": null,
   "metadata": {
    "colab": {
     "base_uri": "https://localhost:8080/",
     "height": 398
    },
    "id": "tLbbb9zIv6Ml",
    "outputId": "a7422b6d-0d15-4cb9-a7eb-c465baa0f713"
   },
   "outputs": [
    {
     "data": {
      "image/png": "[encoded data removed]",
      "text/plain": [
       "<Figure size 1008x432 with 1 Axes>"
      ]
     },
     "metadata": {
      "needs_background": "light"
     },
     "output_type": "display_data"
    }
   ],
   "source": [
    "plt.figure(figsize=(14,6))\n",
    "sns.scatterplot(y=spkid[-4000:], x = spkt[-4000:], s=2.1, color='black')\n",
    "plt.xlabel(r'time ($ms$)', fontsize=18)\n",
    "plt.ylabel('Cells index', fontsize=18)\n",
    "plt.show()"
   ]
  },
  {
   "cell_type": "code",
   "execution_count": null,
   "metadata": {
    "id": "1BH7HN-wwn3o"
   },
   "outputs": [],
   "source": []
  }
 ],
 "metadata": {
  "colab": {
   "provenance": []
  },
  "kernelspec": {
   "display_name": "Python 3 (ipykernel)",
   "language": "python",
   "name": "python3"
  },
  "language_info": {
   "codemirror_mode": {
    "name": "ipython",
    "version": 3
   },
   "file_extension": ".py",
   "mimetype": "text/x-python",
   "name": "python",
   "nbconvert_exporter": "python",
   "pygments_lexer": "ipython3",
   "version": "3.8.12"
  }
 },
 "nbformat": 4,
 "nbformat_minor": 1
}
